{
  "nbformat": 4,
  "nbformat_minor": 0,
  "metadata": {
    "colab": {
      "name": "[Project AI]",
      "provenance": [],
      "collapsed_sections": [],
      "include_colab_link": true
    },
    "kernelspec": {
      "name": "python3",
      "display_name": "Python 3"
    },
    "language_info": {
      "name": "python"
    }
  },
  "cells": [
    {
      "cell_type": "markdown",
      "metadata": {
        "id": "view-in-github",
        "colab_type": "text"
      },
      "source": [
        "<a href=\"https://colab.research.google.com/github/Sophiat-O/c02_emission_analysis/blob/test/%5BProject_AI%5D.ipynb\" target=\"_parent\"><img src=\"https://colab.research.google.com/assets/colab-badge.svg\" alt=\"Open In Colab\"/></a>"
      ]
    },
    {
      "cell_type": "code",
      "execution_count": null,
      "metadata": {
        "id": "a2BWqsIiIrd4"
      },
      "outputs": [],
      "source": [
        "import matplotlib.pyplot as plt\n",
        "import matplotlib\n",
        "import numpy as np\n",
        "import pandas as pd\n",
        "import seaborn as sns\n",
        "from scipy.stats import pearsonr, spearmanr\n",
        "from sklearn.decomposition import PCA"
      ]
    },
    {
      "cell_type": "code",
      "source": [
        "df = pd.read_csv(\"https://www.nrcan.gc.ca/sites/nrcan/files/oee/files/csv/MY2021%20Fuel%20Consumption%20Ratings.csv\", header=[0, 1], encoding=\"latin-1\")\n",
        "df = df.dropna(subset=[(\"Model\", \"Unnamed: 2_level_1\")]).dropna(axis=1)\n",
        "\n",
        "df.head()"
      ],
      "metadata": {
        "colab": {
          "base_uri": "https://localhost:8080/",
          "height": 388
        },
        "id": "dAPPKpmmPuxr",
        "outputId": "e707f0fa-d5b9-43ed-8de2-85cab0ff5866"
      },
      "execution_count": null,
      "outputs": [
        {
          "output_type": "stream",
          "name": "stderr",
          "text": [
            "/usr/local/lib/python3.7/dist-packages/IPython/core/interactiveshell.py:2882: DtypeWarning: Columns (0,1,2,3,6,7) have mixed types.Specify dtype option on import or set low_memory=False.\n",
            "  exec(code_obj, self.user_global_ns, self.user_ns)\n"
          ]
        },
        {
          "output_type": "execute_result",
          "data": {
            "text/html": [
              "\n",
              "  <div id=\"df-79fb0d53-2b46-4ece-a882-83ee144cdc30\">\n",
              "    <div class=\"colab-df-container\">\n",
              "      <div>\n",
              "<style scoped>\n",
              "    .dataframe tbody tr th:only-of-type {\n",
              "        vertical-align: middle;\n",
              "    }\n",
              "\n",
              "    .dataframe tbody tr th {\n",
              "        vertical-align: top;\n",
              "    }\n",
              "\n",
              "    .dataframe thead tr th {\n",
              "        text-align: left;\n",
              "    }\n",
              "</style>\n",
              "<table border=\"1\" class=\"dataframe\">\n",
              "  <thead>\n",
              "    <tr>\n",
              "      <th></th>\n",
              "      <th>Model</th>\n",
              "      <th>Make</th>\n",
              "      <th>Model</th>\n",
              "      <th>Vehicle Class</th>\n",
              "      <th>Engine Size</th>\n",
              "      <th>Cylinders</th>\n",
              "      <th>Transmission</th>\n",
              "      <th>Fuel</th>\n",
              "      <th>Fuel Consumption</th>\n",
              "      <th>Unnamed: 9_level_0</th>\n",
              "      <th>Unnamed: 10_level_0</th>\n",
              "      <th>Unnamed: 11_level_0</th>\n",
              "      <th>CO2 Emissions</th>\n",
              "      <th>CO2</th>\n",
              "      <th>Smog</th>\n",
              "    </tr>\n",
              "    <tr>\n",
              "      <th></th>\n",
              "      <th>Year</th>\n",
              "      <th>Unnamed: 1_level_1</th>\n",
              "      <th>Unnamed: 2_level_1</th>\n",
              "      <th>Unnamed: 3_level_1</th>\n",
              "      <th>(L)</th>\n",
              "      <th>Unnamed: 5_level_1</th>\n",
              "      <th>Unnamed: 6_level_1</th>\n",
              "      <th>Type</th>\n",
              "      <th>City (L/100 km)</th>\n",
              "      <th>Hwy (L/100 km)</th>\n",
              "      <th>Comb (L/100 km)</th>\n",
              "      <th>Comb (mpg)</th>\n",
              "      <th>(g/km)</th>\n",
              "      <th>Rating</th>\n",
              "      <th>Rating</th>\n",
              "    </tr>\n",
              "  </thead>\n",
              "  <tbody>\n",
              "    <tr>\n",
              "      <th>0</th>\n",
              "      <td>2021</td>\n",
              "      <td>Acura</td>\n",
              "      <td>ILX</td>\n",
              "      <td>Compact</td>\n",
              "      <td>2.4</td>\n",
              "      <td>4.0</td>\n",
              "      <td>AM8</td>\n",
              "      <td>Z</td>\n",
              "      <td>9.9</td>\n",
              "      <td>7.0</td>\n",
              "      <td>8.6</td>\n",
              "      <td>33.0</td>\n",
              "      <td>199.0</td>\n",
              "      <td>6.0</td>\n",
              "      <td>3.0</td>\n",
              "    </tr>\n",
              "    <tr>\n",
              "      <th>1</th>\n",
              "      <td>2021</td>\n",
              "      <td>Acura</td>\n",
              "      <td>NSX</td>\n",
              "      <td>Two-seater</td>\n",
              "      <td>3.5</td>\n",
              "      <td>6.0</td>\n",
              "      <td>AM9</td>\n",
              "      <td>Z</td>\n",
              "      <td>11.1</td>\n",
              "      <td>10.8</td>\n",
              "      <td>11.0</td>\n",
              "      <td>26.0</td>\n",
              "      <td>256.0</td>\n",
              "      <td>4.0</td>\n",
              "      <td>3.0</td>\n",
              "    </tr>\n",
              "    <tr>\n",
              "      <th>2</th>\n",
              "      <td>2021</td>\n",
              "      <td>Acura</td>\n",
              "      <td>RDX SH-AWD</td>\n",
              "      <td>SUV: Small</td>\n",
              "      <td>2.0</td>\n",
              "      <td>4.0</td>\n",
              "      <td>AS10</td>\n",
              "      <td>Z</td>\n",
              "      <td>11.0</td>\n",
              "      <td>8.6</td>\n",
              "      <td>9.9</td>\n",
              "      <td>29.0</td>\n",
              "      <td>232.0</td>\n",
              "      <td>5.0</td>\n",
              "      <td>6.0</td>\n",
              "    </tr>\n",
              "    <tr>\n",
              "      <th>3</th>\n",
              "      <td>2021</td>\n",
              "      <td>Acura</td>\n",
              "      <td>RDX SH-AWD A-SPEC</td>\n",
              "      <td>SUV: Small</td>\n",
              "      <td>2.0</td>\n",
              "      <td>4.0</td>\n",
              "      <td>AS10</td>\n",
              "      <td>Z</td>\n",
              "      <td>11.3</td>\n",
              "      <td>9.1</td>\n",
              "      <td>10.3</td>\n",
              "      <td>27.0</td>\n",
              "      <td>242.0</td>\n",
              "      <td>5.0</td>\n",
              "      <td>6.0</td>\n",
              "    </tr>\n",
              "    <tr>\n",
              "      <th>4</th>\n",
              "      <td>2021</td>\n",
              "      <td>Acura</td>\n",
              "      <td>TLX SH-AWD</td>\n",
              "      <td>Compact</td>\n",
              "      <td>2.0</td>\n",
              "      <td>4.0</td>\n",
              "      <td>AS10</td>\n",
              "      <td>Z</td>\n",
              "      <td>11.2</td>\n",
              "      <td>8.0</td>\n",
              "      <td>9.8</td>\n",
              "      <td>29.0</td>\n",
              "      <td>230.0</td>\n",
              "      <td>5.0</td>\n",
              "      <td>7.0</td>\n",
              "    </tr>\n",
              "  </tbody>\n",
              "</table>\n",
              "</div>\n",
              "      <button class=\"colab-df-convert\" onclick=\"convertToInteractive('df-79fb0d53-2b46-4ece-a882-83ee144cdc30')\"\n",
              "              title=\"Convert this dataframe to an interactive table.\"\n",
              "              style=\"display:none;\">\n",
              "        \n",
              "  <svg xmlns=\"http://www.w3.org/2000/svg\" height=\"24px\"viewBox=\"0 0 24 24\"\n",
              "       width=\"24px\">\n",
              "    <path d=\"M0 0h24v24H0V0z\" fill=\"none\"/>\n",
              "    <path d=\"M18.56 5.44l.94 2.06.94-2.06 2.06-.94-2.06-.94-.94-2.06-.94 2.06-2.06.94zm-11 1L8.5 8.5l.94-2.06 2.06-.94-2.06-.94L8.5 2.5l-.94 2.06-2.06.94zm10 10l.94 2.06.94-2.06 2.06-.94-2.06-.94-.94-2.06-.94 2.06-2.06.94z\"/><path d=\"M17.41 7.96l-1.37-1.37c-.4-.4-.92-.59-1.43-.59-.52 0-1.04.2-1.43.59L10.3 9.45l-7.72 7.72c-.78.78-.78 2.05 0 2.83L4 21.41c.39.39.9.59 1.41.59.51 0 1.02-.2 1.41-.59l7.78-7.78 2.81-2.81c.8-.78.8-2.07 0-2.86zM5.41 20L4 18.59l7.72-7.72 1.47 1.35L5.41 20z\"/>\n",
              "  </svg>\n",
              "      </button>\n",
              "      \n",
              "  <style>\n",
              "    .colab-df-container {\n",
              "      display:flex;\n",
              "      flex-wrap:wrap;\n",
              "      gap: 12px;\n",
              "    }\n",
              "\n",
              "    .colab-df-convert {\n",
              "      background-color: #E8F0FE;\n",
              "      border: none;\n",
              "      border-radius: 50%;\n",
              "      cursor: pointer;\n",
              "      display: none;\n",
              "      fill: #1967D2;\n",
              "      height: 32px;\n",
              "      padding: 0 0 0 0;\n",
              "      width: 32px;\n",
              "    }\n",
              "\n",
              "    .colab-df-convert:hover {\n",
              "      background-color: #E2EBFA;\n",
              "      box-shadow: 0px 1px 2px rgba(60, 64, 67, 0.3), 0px 1px 3px 1px rgba(60, 64, 67, 0.15);\n",
              "      fill: #174EA6;\n",
              "    }\n",
              "\n",
              "    [theme=dark] .colab-df-convert {\n",
              "      background-color: #3B4455;\n",
              "      fill: #D2E3FC;\n",
              "    }\n",
              "\n",
              "    [theme=dark] .colab-df-convert:hover {\n",
              "      background-color: #434B5C;\n",
              "      box-shadow: 0px 1px 3px 1px rgba(0, 0, 0, 0.15);\n",
              "      filter: drop-shadow(0px 1px 2px rgba(0, 0, 0, 0.3));\n",
              "      fill: #FFFFFF;\n",
              "    }\n",
              "  </style>\n",
              "\n",
              "      <script>\n",
              "        const buttonEl =\n",
              "          document.querySelector('#df-79fb0d53-2b46-4ece-a882-83ee144cdc30 button.colab-df-convert');\n",
              "        buttonEl.style.display =\n",
              "          google.colab.kernel.accessAllowed ? 'block' : 'none';\n",
              "\n",
              "        async function convertToInteractive(key) {\n",
              "          const element = document.querySelector('#df-79fb0d53-2b46-4ece-a882-83ee144cdc30');\n",
              "          const dataTable =\n",
              "            await google.colab.kernel.invokeFunction('convertToInteractive',\n",
              "                                                     [key], {});\n",
              "          if (!dataTable) return;\n",
              "\n",
              "          const docLinkHtml = 'Like what you see? Visit the ' +\n",
              "            '<a target=\"_blank\" href=https://colab.research.google.com/notebooks/data_table.ipynb>data table notebook</a>'\n",
              "            + ' to learn more about interactive tables.';\n",
              "          element.innerHTML = '';\n",
              "          dataTable['output_type'] = 'display_data';\n",
              "          await google.colab.output.renderOutput(dataTable, element);\n",
              "          const docLink = document.createElement('div');\n",
              "          docLink.innerHTML = docLinkHtml;\n",
              "          element.appendChild(docLink);\n",
              "        }\n",
              "      </script>\n",
              "    </div>\n",
              "  </div>\n",
              "  "
            ],
            "text/plain": [
              "  Model               Make              Model  ... CO2 Emissions    CO2   Smog\n",
              "   Year Unnamed: 1_level_1 Unnamed: 2_level_1  ...        (g/km) Rating Rating\n",
              "0  2021              Acura                ILX  ...         199.0    6.0    3.0\n",
              "1  2021              Acura                NSX  ...         256.0    4.0    3.0\n",
              "2  2021              Acura         RDX SH-AWD  ...         232.0    5.0    6.0\n",
              "3  2021              Acura  RDX SH-AWD A-SPEC  ...         242.0    5.0    6.0\n",
              "4  2021              Acura         TLX SH-AWD  ...         230.0    5.0    7.0\n",
              "\n",
              "[5 rows x 15 columns]"
            ]
          },
          "metadata": {},
          "execution_count": 2
        }
      ]
    },
    {
      "cell_type": "code",
      "source": [
        "df.columns = [\n",
        "  \"year\", \"brand\", \"model\", \"vehicle_class\", \"engine_size\", \"cylinders\", \"transmission\", \"fuel_type\", \"fuel_consumption\", \"Hwy\", \"Comb\", \"Comb_mpg\", \"co2_emissions\", \"co2_rating\", \"smog_rating\"\n",
        "]"
      ],
      "metadata": {
        "id": "NlnMvbrmQMul"
      },
      "execution_count": null,
      "outputs": []
    },
    {
      "cell_type": "code",
      "source": [
        "df.shape\n",
        "df['transmission'] = df['transmission'].str.replace('\\d+', '')"
      ],
      "metadata": {
        "id": "s5CFnEcaQAps",
        "colab": {
          "base_uri": "https://localhost:8080/"
        },
        "outputId": "1c57d633-a7b9-4b80-d723-d4a5236a7511"
      },
      "execution_count": null,
      "outputs": [
        {
          "output_type": "stream",
          "name": "stderr",
          "text": [
            "/usr/local/lib/python3.7/dist-packages/ipykernel_launcher.py:2: FutureWarning: The default value of regex will change from True to False in a future version.\n",
            "  \n"
          ]
        }
      ]
    },
    {
      "cell_type": "code",
      "source": [
        "list(df)"
      ],
      "metadata": {
        "colab": {
          "base_uri": "https://localhost:8080/"
        },
        "id": "novB9BpccQjn",
        "outputId": "360dd3d1-f533-4b12-a0fa-1475645c817c"
      },
      "execution_count": null,
      "outputs": [
        {
          "output_type": "execute_result",
          "data": {
            "text/plain": [
              "['year',\n",
              " 'brand',\n",
              " 'model',\n",
              " 'vehicle_class',\n",
              " 'engine_size',\n",
              " 'cylinders',\n",
              " 'transmission',\n",
              " 'fuel_type',\n",
              " 'fuel_consumption',\n",
              " 'Hwy',\n",
              " 'Comb',\n",
              " 'Comb_mpg',\n",
              " 'co2_emissions',\n",
              " 'co2_rating',\n",
              " 'smog_rating']"
            ]
          },
          "metadata": {},
          "execution_count": 5
        }
      ]
    },
    {
      "cell_type": "code",
      "source": [
        ""
      ],
      "metadata": {
        "id": "4m7Uf_1vbgTo"
      },
      "execution_count": null,
      "outputs": []
    },
    {
      "cell_type": "code",
      "source": [
        "# df.columns = [\"year\", \"vehicle_brand\", \"vehicle_model\", \"vehicle_class\", \"motor_kW\", \"engine_size_L\", \"cylinders\", \"transmission\", \"fuel_type\", \"consumption_combined_le/100km\", \"range_1_h\", \"recharge_time_h\", \"fuel_type_2\", \"consumption_city_L/100km\", \"Hwy_L/100km\", \"Comb_L/100km\", \"Range_2_km\", \"co2_emissions_g/km\"]"
      ],
      "metadata": {
        "id": "QUnzoarTKWqS"
      },
      "execution_count": null,
      "outputs": []
    },
    {
      "cell_type": "code",
      "source": [
        "# df = pd.read_csv(\"https://www.nrcan.gc.ca/sites/nrcan/files/oee/files/csv/MY2012-2021%20Plug-in%20Hybrid%20Electric%20Vehicles.csv\", header=[0, 1], encoding=\"latin-1\")\n",
        "# df = df.dropna(subset=[(\"Motor\", \"(kW)\")]).dropna(axis=1)\n",
        "# df.head()"
      ],
      "metadata": {
        "id": "j6nUXG4tJR5M"
      },
      "execution_count": null,
      "outputs": []
    },
    {
      "cell_type": "code",
      "source": [
        "df.head()"
      ],
      "metadata": {
        "colab": {
          "base_uri": "https://localhost:8080/",
          "height": 267
        },
        "id": "LjHaQF3aLhMr",
        "outputId": "c6384dca-cdf9-4787-d571-64348bf40499"
      },
      "execution_count": null,
      "outputs": [
        {
          "output_type": "execute_result",
          "data": {
            "text/html": [
              "\n",
              "  <div id=\"df-1883db09-a58c-4d0b-872a-c4c6cf73405d\">\n",
              "    <div class=\"colab-df-container\">\n",
              "      <div>\n",
              "<style scoped>\n",
              "    .dataframe tbody tr th:only-of-type {\n",
              "        vertical-align: middle;\n",
              "    }\n",
              "\n",
              "    .dataframe tbody tr th {\n",
              "        vertical-align: top;\n",
              "    }\n",
              "\n",
              "    .dataframe thead th {\n",
              "        text-align: right;\n",
              "    }\n",
              "</style>\n",
              "<table border=\"1\" class=\"dataframe\">\n",
              "  <thead>\n",
              "    <tr style=\"text-align: right;\">\n",
              "      <th></th>\n",
              "      <th>year</th>\n",
              "      <th>brand</th>\n",
              "      <th>model</th>\n",
              "      <th>vehicle_class</th>\n",
              "      <th>engine_size</th>\n",
              "      <th>cylinders</th>\n",
              "      <th>transmission</th>\n",
              "      <th>fuel_type</th>\n",
              "      <th>fuel_consumption</th>\n",
              "      <th>Hwy</th>\n",
              "      <th>Comb</th>\n",
              "      <th>Comb_mpg</th>\n",
              "      <th>co2_emissions</th>\n",
              "      <th>co2_rating</th>\n",
              "      <th>smog_rating</th>\n",
              "    </tr>\n",
              "  </thead>\n",
              "  <tbody>\n",
              "    <tr>\n",
              "      <th>0</th>\n",
              "      <td>2021</td>\n",
              "      <td>Acura</td>\n",
              "      <td>ILX</td>\n",
              "      <td>Compact</td>\n",
              "      <td>2.4</td>\n",
              "      <td>4.0</td>\n",
              "      <td>AM</td>\n",
              "      <td>Z</td>\n",
              "      <td>9.9</td>\n",
              "      <td>7.0</td>\n",
              "      <td>8.6</td>\n",
              "      <td>33.0</td>\n",
              "      <td>199.0</td>\n",
              "      <td>6.0</td>\n",
              "      <td>3.0</td>\n",
              "    </tr>\n",
              "    <tr>\n",
              "      <th>1</th>\n",
              "      <td>2021</td>\n",
              "      <td>Acura</td>\n",
              "      <td>NSX</td>\n",
              "      <td>Two-seater</td>\n",
              "      <td>3.5</td>\n",
              "      <td>6.0</td>\n",
              "      <td>AM</td>\n",
              "      <td>Z</td>\n",
              "      <td>11.1</td>\n",
              "      <td>10.8</td>\n",
              "      <td>11.0</td>\n",
              "      <td>26.0</td>\n",
              "      <td>256.0</td>\n",
              "      <td>4.0</td>\n",
              "      <td>3.0</td>\n",
              "    </tr>\n",
              "    <tr>\n",
              "      <th>2</th>\n",
              "      <td>2021</td>\n",
              "      <td>Acura</td>\n",
              "      <td>RDX SH-AWD</td>\n",
              "      <td>SUV: Small</td>\n",
              "      <td>2.0</td>\n",
              "      <td>4.0</td>\n",
              "      <td>AS</td>\n",
              "      <td>Z</td>\n",
              "      <td>11.0</td>\n",
              "      <td>8.6</td>\n",
              "      <td>9.9</td>\n",
              "      <td>29.0</td>\n",
              "      <td>232.0</td>\n",
              "      <td>5.0</td>\n",
              "      <td>6.0</td>\n",
              "    </tr>\n",
              "    <tr>\n",
              "      <th>3</th>\n",
              "      <td>2021</td>\n",
              "      <td>Acura</td>\n",
              "      <td>RDX SH-AWD A-SPEC</td>\n",
              "      <td>SUV: Small</td>\n",
              "      <td>2.0</td>\n",
              "      <td>4.0</td>\n",
              "      <td>AS</td>\n",
              "      <td>Z</td>\n",
              "      <td>11.3</td>\n",
              "      <td>9.1</td>\n",
              "      <td>10.3</td>\n",
              "      <td>27.0</td>\n",
              "      <td>242.0</td>\n",
              "      <td>5.0</td>\n",
              "      <td>6.0</td>\n",
              "    </tr>\n",
              "    <tr>\n",
              "      <th>4</th>\n",
              "      <td>2021</td>\n",
              "      <td>Acura</td>\n",
              "      <td>TLX SH-AWD</td>\n",
              "      <td>Compact</td>\n",
              "      <td>2.0</td>\n",
              "      <td>4.0</td>\n",
              "      <td>AS</td>\n",
              "      <td>Z</td>\n",
              "      <td>11.2</td>\n",
              "      <td>8.0</td>\n",
              "      <td>9.8</td>\n",
              "      <td>29.0</td>\n",
              "      <td>230.0</td>\n",
              "      <td>5.0</td>\n",
              "      <td>7.0</td>\n",
              "    </tr>\n",
              "  </tbody>\n",
              "</table>\n",
              "</div>\n",
              "      <button class=\"colab-df-convert\" onclick=\"convertToInteractive('df-1883db09-a58c-4d0b-872a-c4c6cf73405d')\"\n",
              "              title=\"Convert this dataframe to an interactive table.\"\n",
              "              style=\"display:none;\">\n",
              "        \n",
              "  <svg xmlns=\"http://www.w3.org/2000/svg\" height=\"24px\"viewBox=\"0 0 24 24\"\n",
              "       width=\"24px\">\n",
              "    <path d=\"M0 0h24v24H0V0z\" fill=\"none\"/>\n",
              "    <path d=\"M18.56 5.44l.94 2.06.94-2.06 2.06-.94-2.06-.94-.94-2.06-.94 2.06-2.06.94zm-11 1L8.5 8.5l.94-2.06 2.06-.94-2.06-.94L8.5 2.5l-.94 2.06-2.06.94zm10 10l.94 2.06.94-2.06 2.06-.94-2.06-.94-.94-2.06-.94 2.06-2.06.94z\"/><path d=\"M17.41 7.96l-1.37-1.37c-.4-.4-.92-.59-1.43-.59-.52 0-1.04.2-1.43.59L10.3 9.45l-7.72 7.72c-.78.78-.78 2.05 0 2.83L4 21.41c.39.39.9.59 1.41.59.51 0 1.02-.2 1.41-.59l7.78-7.78 2.81-2.81c.8-.78.8-2.07 0-2.86zM5.41 20L4 18.59l7.72-7.72 1.47 1.35L5.41 20z\"/>\n",
              "  </svg>\n",
              "      </button>\n",
              "      \n",
              "  <style>\n",
              "    .colab-df-container {\n",
              "      display:flex;\n",
              "      flex-wrap:wrap;\n",
              "      gap: 12px;\n",
              "    }\n",
              "\n",
              "    .colab-df-convert {\n",
              "      background-color: #E8F0FE;\n",
              "      border: none;\n",
              "      border-radius: 50%;\n",
              "      cursor: pointer;\n",
              "      display: none;\n",
              "      fill: #1967D2;\n",
              "      height: 32px;\n",
              "      padding: 0 0 0 0;\n",
              "      width: 32px;\n",
              "    }\n",
              "\n",
              "    .colab-df-convert:hover {\n",
              "      background-color: #E2EBFA;\n",
              "      box-shadow: 0px 1px 2px rgba(60, 64, 67, 0.3), 0px 1px 3px 1px rgba(60, 64, 67, 0.15);\n",
              "      fill: #174EA6;\n",
              "    }\n",
              "\n",
              "    [theme=dark] .colab-df-convert {\n",
              "      background-color: #3B4455;\n",
              "      fill: #D2E3FC;\n",
              "    }\n",
              "\n",
              "    [theme=dark] .colab-df-convert:hover {\n",
              "      background-color: #434B5C;\n",
              "      box-shadow: 0px 1px 3px 1px rgba(0, 0, 0, 0.15);\n",
              "      filter: drop-shadow(0px 1px 2px rgba(0, 0, 0, 0.3));\n",
              "      fill: #FFFFFF;\n",
              "    }\n",
              "  </style>\n",
              "\n",
              "      <script>\n",
              "        const buttonEl =\n",
              "          document.querySelector('#df-1883db09-a58c-4d0b-872a-c4c6cf73405d button.colab-df-convert');\n",
              "        buttonEl.style.display =\n",
              "          google.colab.kernel.accessAllowed ? 'block' : 'none';\n",
              "\n",
              "        async function convertToInteractive(key) {\n",
              "          const element = document.querySelector('#df-1883db09-a58c-4d0b-872a-c4c6cf73405d');\n",
              "          const dataTable =\n",
              "            await google.colab.kernel.invokeFunction('convertToInteractive',\n",
              "                                                     [key], {});\n",
              "          if (!dataTable) return;\n",
              "\n",
              "          const docLinkHtml = 'Like what you see? Visit the ' +\n",
              "            '<a target=\"_blank\" href=https://colab.research.google.com/notebooks/data_table.ipynb>data table notebook</a>'\n",
              "            + ' to learn more about interactive tables.';\n",
              "          element.innerHTML = '';\n",
              "          dataTable['output_type'] = 'display_data';\n",
              "          await google.colab.output.renderOutput(dataTable, element);\n",
              "          const docLink = document.createElement('div');\n",
              "          docLink.innerHTML = docLinkHtml;\n",
              "          element.appendChild(docLink);\n",
              "        }\n",
              "      </script>\n",
              "    </div>\n",
              "  </div>\n",
              "  "
            ],
            "text/plain": [
              "   year  brand              model  ... co2_emissions  co2_rating  smog_rating\n",
              "0  2021  Acura                ILX  ...         199.0         6.0          3.0\n",
              "1  2021  Acura                NSX  ...         256.0         4.0          3.0\n",
              "2  2021  Acura         RDX SH-AWD  ...         232.0         5.0          6.0\n",
              "3  2021  Acura  RDX SH-AWD A-SPEC  ...         242.0         5.0          6.0\n",
              "4  2021  Acura         TLX SH-AWD  ...         230.0         5.0          7.0\n",
              "\n",
              "[5 rows x 15 columns]"
            ]
          },
          "metadata": {},
          "execution_count": 8
        }
      ]
    },
    {
      "cell_type": "code",
      "source": [
        "df.shape"
      ],
      "metadata": {
        "colab": {
          "base_uri": "https://localhost:8080/"
        },
        "id": "BZENKqrIa2MY",
        "outputId": "b6d1381a-db22-452d-8f9e-487cf293644c"
      },
      "execution_count": null,
      "outputs": [
        {
          "output_type": "execute_result",
          "data": {
            "text/plain": [
              "(935, 15)"
            ]
          },
          "metadata": {},
          "execution_count": 9
        }
      ]
    },
    {
      "cell_type": "code",
      "source": [
        "df['fuel_type'] = df['fuel_type'].str.replace(\"Z\", \"Premium Gasoline\")\n",
        "df['fuel_type'] = df['fuel_type'].str.replace(\"X\", \"Regular Gasoline\")\n",
        "df['fuel_type'] = df['fuel_type'].str.replace(\"D\", \"Diesel\")\n",
        "df['fuel_type'] = df['fuel_type'].str.replace(\"E\", \"Ethanol(E85)\")\n",
        "df['fuel_type'] = df['fuel_type'].str.replace(\"N\", \"Natural Gas\")"
      ],
      "metadata": {
        "id": "JzBcn8ftMif6"
      },
      "execution_count": null,
      "outputs": []
    },
    {
      "cell_type": "code",
      "source": [
        "dd = df.groupby([\"brand\", \"fuel_type\"]).agg({\"year\": \"count\"})\n",
        "dd['percent'] = dd.groupby(level=0).transform(lambda x: (x / x.sum()).round(2))\n",
        "dd = dd.reset_index()\n",
        "dd"
      ],
      "metadata": {
        "id": "naK3Vex3MqwJ"
      },
      "execution_count": null,
      "outputs": []
    },
    {
      "cell_type": "code",
      "source": [
        "#Clean up transmission data by replacing the interger with string enum\n",
        "df['transmission'] = df['transmission'].str.replace('\\d+', '')\n",
        "\n",
        "#replace transmission string enum with full name\n",
        "df[\"transmission\"] = np.where(df[\"transmission\"]==\"A\", \"Automatic\", df[\"transmission\"])\n",
        "df[\"transmission\"] = np.where(df[\"transmission\"]==\"AM\", \"Automated Manual\", df[\"transmission\"])\n",
        "df[\"transmission\"] = np.where(df[\"transmission\"]==\"AS\", \"Automatic with Select Shift\", df[\"transmission\"])\n",
        "df[\"transmission\"] = np.where(df[\"transmission\"]==\"AV\", \"Continuously Variable\", df[\"transmission\"])\n",
        "df[\"transmission\"] = np.where(df[\"transmission\"]==\"M\", \"Manual\", df[\"transmission\"])\n"
      ],
      "metadata": {
        "id": "A1NGSGHHMxpx"
      },
      "execution_count": null,
      "outputs": []
    },
    {
      "cell_type": "code",
      "source": [
        "#calculating the percentage transimission type by brand \n",
        "\n",
        "tr = df.groupby([\"brand\", \"transmission\"]).agg({\"year\": \"count\"})\n",
        "tr['percent'] = tr.groupby(level=0).transform(lambda x: (x / x.sum()).round(2))\n",
        "tr = tr.reset_index()\n",
        "tr"
      ],
      "metadata": {
        "id": "GhqSn_VAM0YU"
      },
      "execution_count": null,
      "outputs": []
    },
    {
      "cell_type": "code",
      "source": [
        "sns.set(font_scale=1.5, rc={\"figure.figsize\": (12, 12)}, style=\"whitegrid\")\n",
        "\n",
        "tr_chart = tr.pivot(index=\"brand\", columns=\"transmission\", values=\"percent\")\n",
        "tr_chart = tr_chart.reindex(brand.value_counts().index, axis=0)\n",
        "g = tr_chart.plot.barh(stacked=True, lw=0, width=0.8, color=[\"#6D7F21\",\"#A3B354\",\"#386C5F\",\"#619C86\",\"#223F28\"])\n",
        "g.invert_yaxis()\n",
        "g.set_xticklabels([f\"{int(x * 100)}%\" for x in g.get_xticks()])\n",
        "plt.title(\"Percentage transmission type by brand\", fontsize=15)\n",
        "plt.margins(x=0)\n",
        "\n",
        "g.legend(loc=\"upper center\", bbox_to_anchor=(0.5, -0.05), ncol=4)"
      ],
      "metadata": {
        "id": "qWb-5i-QM4o3"
      },
      "execution_count": null,
      "outputs": []
    },
    {
      "cell_type": "code",
      "source": [
        "vc = df.groupby([\"vehicle_class\", \"transmission\"]).agg({\"year\": \"count\"})\n",
        "vc['percent'] = vc.groupby(level=0).transform(lambda x: (x / x.sum()).round(2))\n",
        "vc = vc.reset_index()\n",
        "vc"
      ],
      "metadata": {
        "id": "AoakCC3BM7b-"
      },
      "execution_count": null,
      "outputs": []
    },
    {
      "cell_type": "code",
      "source": [
        "vc_fuel = df.groupby([\"vehicle_class\", \"fuel_type\"]).agg({\"year\": \"count\"})\n",
        "vc_fuel['percent'] = vc_fuel.groupby(level=0).transform(lambda x: (x / x.sum()).round(2))\n",
        "vc_fuel = vc_fuel.reset_index()\n",
        "vc_fuel"
      ],
      "metadata": {
        "id": "ESPHkddZNEBH"
      },
      "execution_count": null,
      "outputs": []
    },
    {
      "cell_type": "code",
      "source": [
        "sns.set(font_scale=1.5, rc={\"figure.figsize\": (12, 12)}, style=\"whitegrid\")\n",
        "\n",
        "vc_fuel_chart = vc_fuel.pivot(index=\"vehicle_class\", columns=\"fuel_type\", values=\"percent\")\n",
        "vc_fuel_chart = vc_fuel_chart.reindex(df[\"vehicle_class\"].value_counts().index, axis=0)\n",
        "g = vc_fuel_chart.plot.barh(stacked=True, lw=0, width=0.8, color=[\"#6D7F21\",\"#A3B354\",\"#386C5F\",\"#619C86\",\"#223F28\"])\n",
        "g.invert_yaxis()\n",
        "g.set_xticklabels([f\"{int(x * 100)}%\" for x in g.get_xticks()])\n",
        "plt.title(\"Percentage fuel type by vehicle class\", fontsize=15)\n",
        "plt.margins(x=0)\n",
        "\n",
        "g.legend(loc=\"upper center\", bbox_to_anchor=(0.5, -0.05), ncol=4)"
      ],
      "metadata": {
        "id": "fiqxVdk0NHNM"
      },
      "execution_count": null,
      "outputs": []
    },
    {
      "cell_type": "code",
      "source": [
        "sns.set(font_scale=1.5, rc={\"figure.figsize\": (12, 12)}, style=\"whitegrid\")\n",
        "\n",
        "vc_chart = vc.pivot(index=\"vehicle_class\", columns=\"transmission\", values=\"percent\")\n",
        "vc_chart = vc_chart.reindex(df[\"vehicle_class\"].value_counts().index, axis=0)\n",
        "g = vc_chart.plot.barh(stacked=True, lw=0, width=0.8, color=[\"#6D7F21\",\"#A3B354\",\"#386C5F\",\"#619C86\",\"#223F28\"])\n",
        "g.invert_yaxis()\n",
        "g.set_xticklabels([f\"{int(x * 100)}%\" for x in g.get_xticks()])\n",
        "plt.title(\"Percentage transmission type by vehicle class\", fontsize=15)\n",
        "plt.margins(x=0)\n",
        "\n",
        "g.legend(loc=\"upper center\", bbox_to_anchor=(0.5, -0.05), ncol=4)"
      ],
      "metadata": {
        "id": "QwZcf2RPNAw_"
      },
      "execution_count": null,
      "outputs": []
    },
    {
      "cell_type": "code",
      "source": [
        "sns.set(font_scale=1.5, rc={\"figure.figsize\": (12, 12)}, style=\"whitegrid\")\n",
        "\n",
        "df_chart = dd.pivot(index=\"brand\", columns=\"fuel_type\", values=\"percent\")\n",
        "df_chart = df_chart.reindex(brand.value_counts().index, axis=0)\n",
        "g = df_chart.plot.barh(stacked=True, lw=0, width=0.8, color=[\"#6D7F21\",\"#A3B354\",\"#386C5F\",\"#619C86\"])\n",
        "g.invert_yaxis()\n",
        "g.set_xticklabels([f\"{int(x * 100)}%\" for x in g.get_xticks()])\n",
        "plt.margins(x=0)\n",
        "plt.title(\"Percent of Fuel Type by Brand\", fontsize=15)\n",
        "\n",
        "g.legend(loc=\"upper center\", bbox_to_anchor=(0.5, -0.05), ncol=4)"
      ],
      "metadata": {
        "id": "pspNlpJIMtxR"
      },
      "execution_count": null,
      "outputs": []
    },
    {
      "cell_type": "code",
      "source": [
        "sns.set(rc = {'figure.figsize':(25,15)})\n",
        "sns.countplot(y=\"brand\", data=df, color=\"#65BF8F\",order = brand.value_counts().index)\n",
        "plt.title(\"Brand Count\", fontsize=15)"
      ],
      "metadata": {
        "id": "6ojajlNTNPo-"
      },
      "execution_count": null,
      "outputs": []
    },
    {
      "cell_type": "code",
      "source": [
        "sns.set(rc = {'figure.figsize':(12,10)})\n",
        "tr_count = df.groupby(\"transmission\")[\"transmission\"].count().sort_values(ascending=False)\n",
        "#tr_count.plot(kind=\"bar\", color=\"#65BF8F\")\n",
        "sns.countplot(y=df[\"transmission\"], data=df, color=\"#65BF8F\",order = df[\"transmission\"].value_counts().index)\n",
        "plt.title(\"Transmission Count\", fontsize=22)\n",
        "plt.ylabel(\"Tranmission Type\", fontsize=20)\n",
        "plt.xlabel(\"Count\", fontsize=20)\n",
        "plt.xticks(horizontalalignment='center', fontsize=16)\n",
        "plt.yticks(fontsize=16)\n",
        "print(tr_count)\n",
        "plt.show()"
      ],
      "metadata": {
        "id": "4c1AHrWgNSdf"
      },
      "execution_count": null,
      "outputs": []
    },
    {
      "cell_type": "code",
      "source": [
        "sns.set(rc = {'figure.figsize':(12,7)})\n",
        "ft_count = df.groupby(\"fuel_type\")[\"fuel_type\"].count().sort_values(ascending=False)\n",
        "#ft_count.plot(kind=\"bar\", color=\"#65BF8F\")\n",
        "sns.countplot(x=df[\"fuel_type\"], data=df, color=\"#65BF8F\",order = df[\"fuel_type\"].value_counts().index)\n",
        "plt.title(\"Fuel Type Count\", fontsize=22)\n",
        "plt.ylabel(\"Count\", fontsize=20)\n",
        "plt.xlabel(\"Fuel Type\", fontsize=20)\n",
        "plt.xticks(horizontalalignment='center', fontsize=16)\n",
        "plt.yticks(fontsize=16)\n",
        "plt.tight_layout()\n",
        "print(ft_count)\n",
        "plt.show()"
      ],
      "metadata": {
        "id": "308LprieNWK1"
      },
      "execution_count": null,
      "outputs": []
    },
    {
      "cell_type": "code",
      "source": [
        "emission_transmission = df.groupby([\"transmission\"])[\"co2_emissions\"].mean().sort_values().reset_index()\n",
        "\n",
        "sns.set(rc = {'figure.figsize':(15,5)})\n",
        "sns.barplot(y = \"transmission\",x=\"co2_emissions\", data = df, color=\"#65BF8F\", order = list(emission_transmission[\"transmission\"])) #  palette=sns.light_palette(\"seagreen\", reverse=True) color=\"#24D139\",\n",
        "plt.title('CO₂ Emissions with Transmission', fontsize=22)\n",
        "plt.xlabel('\\nCO₂ Emissions', fontsize=20)\n",
        "plt.xticks(horizontalalignment='center', fontsize=16)\n",
        "plt.yticks(fontsize=16)\n",
        "plt.ylabel('Transmission', fontsize=20)"
      ],
      "metadata": {
        "id": "77pv_HehNZB7"
      },
      "execution_count": null,
      "outputs": []
    },
    {
      "cell_type": "code",
      "source": [
        "emission_fuel = df.groupby([\"fuel_type\"])[\"co2_emissions\"].mean().sort_values().reset_index()\n",
        "\n",
        "sns.set(rc = {'figure.figsize':(10,5)})\n",
        "sns.barplot(x = \"fuel_type\",y=\"co2_emissions\", order=list(emission_fuel[\"fuel_type\"]), color=\"#65BF8F\", data = df) # palette=sns.dark_palette(\"seagreen\", reverse=True)\n",
        "plt.title('CO₂ Emissions with fuel type', fontsize=22)\n",
        "plt.xlabel('\\nFuel Type', fontsize=20)\n",
        "plt.xticks(horizontalalignment='center', fontsize=16)\n",
        "plt.yticks(fontsize=16)\n",
        "plt.ylabel('CO₂ Emissions', fontsize=20)"
      ],
      "metadata": {
        "id": "9A6L8aS1NcDs"
      },
      "execution_count": null,
      "outputs": []
    },
    {
      "cell_type": "code",
      "source": [
        "dd = df[[\"engine_size\", \"cylinders\", \"transmission\", \"fuel_type\", \"fuel_consumption\", \"Hwy\", \"Comb\", \"Comb_mpg\", \"co2_emissions\", \"co2_rating\", \"smog_rating\"]]\n",
        "dd.corr()"
      ],
      "metadata": {
        "colab": {
          "base_uri": "https://localhost:8080/",
          "height": 331
        },
        "id": "Oee76NtcmAXN",
        "outputId": "8dc3f782-beb8-41b5-81f4-32576ef3403d"
      },
      "execution_count": null,
      "outputs": [
        {
          "output_type": "execute_result",
          "data": {
            "text/html": [
              "\n",
              "  <div id=\"df-0153b5cb-6972-4d21-aedb-7cb55ec5388b\">\n",
              "    <div class=\"colab-df-container\">\n",
              "      <div>\n",
              "<style scoped>\n",
              "    .dataframe tbody tr th:only-of-type {\n",
              "        vertical-align: middle;\n",
              "    }\n",
              "\n",
              "    .dataframe tbody tr th {\n",
              "        vertical-align: top;\n",
              "    }\n",
              "\n",
              "    .dataframe thead th {\n",
              "        text-align: right;\n",
              "    }\n",
              "</style>\n",
              "<table border=\"1\" class=\"dataframe\">\n",
              "  <thead>\n",
              "    <tr style=\"text-align: right;\">\n",
              "      <th></th>\n",
              "      <th>engine_size</th>\n",
              "      <th>cylinders</th>\n",
              "      <th>fuel_consumption</th>\n",
              "      <th>Hwy</th>\n",
              "      <th>Comb</th>\n",
              "      <th>Comb_mpg</th>\n",
              "      <th>co2_emissions</th>\n",
              "      <th>co2_rating</th>\n",
              "      <th>smog_rating</th>\n",
              "    </tr>\n",
              "  </thead>\n",
              "  <tbody>\n",
              "    <tr>\n",
              "      <th>engine_size</th>\n",
              "      <td>1.000000</td>\n",
              "      <td>0.918483</td>\n",
              "      <td>0.833345</td>\n",
              "      <td>0.748928</td>\n",
              "      <td>0.817541</td>\n",
              "      <td>-0.707183</td>\n",
              "      <td>0.825725</td>\n",
              "      <td>-0.781292</td>\n",
              "      <td>-0.504544</td>\n",
              "    </tr>\n",
              "    <tr>\n",
              "      <th>cylinders</th>\n",
              "      <td>0.918483</td>\n",
              "      <td>1.000000</td>\n",
              "      <td>0.842551</td>\n",
              "      <td>0.742968</td>\n",
              "      <td>0.821770</td>\n",
              "      <td>-0.694915</td>\n",
              "      <td>0.834972</td>\n",
              "      <td>-0.770964</td>\n",
              "      <td>-0.532742</td>\n",
              "    </tr>\n",
              "    <tr>\n",
              "      <th>fuel_consumption</th>\n",
              "      <td>0.833345</td>\n",
              "      <td>0.842551</td>\n",
              "      <td>1.000000</td>\n",
              "      <td>0.926625</td>\n",
              "      <td>0.991267</td>\n",
              "      <td>-0.905265</td>\n",
              "      <td>0.966137</td>\n",
              "      <td>-0.922594</td>\n",
              "      <td>-0.573210</td>\n",
              "    </tr>\n",
              "    <tr>\n",
              "      <th>Hwy</th>\n",
              "      <td>0.748928</td>\n",
              "      <td>0.742968</td>\n",
              "      <td>0.926625</td>\n",
              "      <td>1.000000</td>\n",
              "      <td>0.967835</td>\n",
              "      <td>-0.883300</td>\n",
              "      <td>0.933468</td>\n",
              "      <td>-0.895023</td>\n",
              "      <td>-0.490750</td>\n",
              "    </tr>\n",
              "    <tr>\n",
              "      <th>Comb</th>\n",
              "      <td>0.817541</td>\n",
              "      <td>0.821770</td>\n",
              "      <td>0.991267</td>\n",
              "      <td>0.967835</td>\n",
              "      <td>1.000000</td>\n",
              "      <td>-0.912985</td>\n",
              "      <td>0.971241</td>\n",
              "      <td>-0.928887</td>\n",
              "      <td>-0.555426</td>\n",
              "    </tr>\n",
              "    <tr>\n",
              "      <th>Comb_mpg</th>\n",
              "      <td>-0.707183</td>\n",
              "      <td>-0.694915</td>\n",
              "      <td>-0.905265</td>\n",
              "      <td>-0.883300</td>\n",
              "      <td>-0.912985</td>\n",
              "      <td>1.000000</td>\n",
              "      <td>-0.909713</td>\n",
              "      <td>0.949028</td>\n",
              "      <td>0.519362</td>\n",
              "    </tr>\n",
              "    <tr>\n",
              "      <th>co2_emissions</th>\n",
              "      <td>0.825725</td>\n",
              "      <td>0.834972</td>\n",
              "      <td>0.966137</td>\n",
              "      <td>0.933468</td>\n",
              "      <td>0.971241</td>\n",
              "      <td>-0.909713</td>\n",
              "      <td>1.000000</td>\n",
              "      <td>-0.957189</td>\n",
              "      <td>-0.583690</td>\n",
              "    </tr>\n",
              "    <tr>\n",
              "      <th>co2_rating</th>\n",
              "      <td>-0.781292</td>\n",
              "      <td>-0.770964</td>\n",
              "      <td>-0.922594</td>\n",
              "      <td>-0.895023</td>\n",
              "      <td>-0.928887</td>\n",
              "      <td>0.949028</td>\n",
              "      <td>-0.957189</td>\n",
              "      <td>1.000000</td>\n",
              "      <td>0.555065</td>\n",
              "    </tr>\n",
              "    <tr>\n",
              "      <th>smog_rating</th>\n",
              "      <td>-0.504544</td>\n",
              "      <td>-0.532742</td>\n",
              "      <td>-0.573210</td>\n",
              "      <td>-0.490750</td>\n",
              "      <td>-0.555426</td>\n",
              "      <td>0.519362</td>\n",
              "      <td>-0.583690</td>\n",
              "      <td>0.555065</td>\n",
              "      <td>1.000000</td>\n",
              "    </tr>\n",
              "  </tbody>\n",
              "</table>\n",
              "</div>\n",
              "      <button class=\"colab-df-convert\" onclick=\"convertToInteractive('df-0153b5cb-6972-4d21-aedb-7cb55ec5388b')\"\n",
              "              title=\"Convert this dataframe to an interactive table.\"\n",
              "              style=\"display:none;\">\n",
              "        \n",
              "  <svg xmlns=\"http://www.w3.org/2000/svg\" height=\"24px\"viewBox=\"0 0 24 24\"\n",
              "       width=\"24px\">\n",
              "    <path d=\"M0 0h24v24H0V0z\" fill=\"none\"/>\n",
              "    <path d=\"M18.56 5.44l.94 2.06.94-2.06 2.06-.94-2.06-.94-.94-2.06-.94 2.06-2.06.94zm-11 1L8.5 8.5l.94-2.06 2.06-.94-2.06-.94L8.5 2.5l-.94 2.06-2.06.94zm10 10l.94 2.06.94-2.06 2.06-.94-2.06-.94-.94-2.06-.94 2.06-2.06.94z\"/><path d=\"M17.41 7.96l-1.37-1.37c-.4-.4-.92-.59-1.43-.59-.52 0-1.04.2-1.43.59L10.3 9.45l-7.72 7.72c-.78.78-.78 2.05 0 2.83L4 21.41c.39.39.9.59 1.41.59.51 0 1.02-.2 1.41-.59l7.78-7.78 2.81-2.81c.8-.78.8-2.07 0-2.86zM5.41 20L4 18.59l7.72-7.72 1.47 1.35L5.41 20z\"/>\n",
              "  </svg>\n",
              "      </button>\n",
              "      \n",
              "  <style>\n",
              "    .colab-df-container {\n",
              "      display:flex;\n",
              "      flex-wrap:wrap;\n",
              "      gap: 12px;\n",
              "    }\n",
              "\n",
              "    .colab-df-convert {\n",
              "      background-color: #E8F0FE;\n",
              "      border: none;\n",
              "      border-radius: 50%;\n",
              "      cursor: pointer;\n",
              "      display: none;\n",
              "      fill: #1967D2;\n",
              "      height: 32px;\n",
              "      padding: 0 0 0 0;\n",
              "      width: 32px;\n",
              "    }\n",
              "\n",
              "    .colab-df-convert:hover {\n",
              "      background-color: #E2EBFA;\n",
              "      box-shadow: 0px 1px 2px rgba(60, 64, 67, 0.3), 0px 1px 3px 1px rgba(60, 64, 67, 0.15);\n",
              "      fill: #174EA6;\n",
              "    }\n",
              "\n",
              "    [theme=dark] .colab-df-convert {\n",
              "      background-color: #3B4455;\n",
              "      fill: #D2E3FC;\n",
              "    }\n",
              "\n",
              "    [theme=dark] .colab-df-convert:hover {\n",
              "      background-color: #434B5C;\n",
              "      box-shadow: 0px 1px 3px 1px rgba(0, 0, 0, 0.15);\n",
              "      filter: drop-shadow(0px 1px 2px rgba(0, 0, 0, 0.3));\n",
              "      fill: #FFFFFF;\n",
              "    }\n",
              "  </style>\n",
              "\n",
              "      <script>\n",
              "        const buttonEl =\n",
              "          document.querySelector('#df-0153b5cb-6972-4d21-aedb-7cb55ec5388b button.colab-df-convert');\n",
              "        buttonEl.style.display =\n",
              "          google.colab.kernel.accessAllowed ? 'block' : 'none';\n",
              "\n",
              "        async function convertToInteractive(key) {\n",
              "          const element = document.querySelector('#df-0153b5cb-6972-4d21-aedb-7cb55ec5388b');\n",
              "          const dataTable =\n",
              "            await google.colab.kernel.invokeFunction('convertToInteractive',\n",
              "                                                     [key], {});\n",
              "          if (!dataTable) return;\n",
              "\n",
              "          const docLinkHtml = 'Like what you see? Visit the ' +\n",
              "            '<a target=\"_blank\" href=https://colab.research.google.com/notebooks/data_table.ipynb>data table notebook</a>'\n",
              "            + ' to learn more about interactive tables.';\n",
              "          element.innerHTML = '';\n",
              "          dataTable['output_type'] = 'display_data';\n",
              "          await google.colab.output.renderOutput(dataTable, element);\n",
              "          const docLink = document.createElement('div');\n",
              "          docLink.innerHTML = docLinkHtml;\n",
              "          element.appendChild(docLink);\n",
              "        }\n",
              "      </script>\n",
              "    </div>\n",
              "  </div>\n",
              "  "
            ],
            "text/plain": [
              "                  engine_size  cylinders  ...  co2_rating  smog_rating\n",
              "engine_size          1.000000   0.918483  ...   -0.781292    -0.504544\n",
              "cylinders            0.918483   1.000000  ...   -0.770964    -0.532742\n",
              "fuel_consumption     0.833345   0.842551  ...   -0.922594    -0.573210\n",
              "Hwy                  0.748928   0.742968  ...   -0.895023    -0.490750\n",
              "Comb                 0.817541   0.821770  ...   -0.928887    -0.555426\n",
              "Comb_mpg            -0.707183  -0.694915  ...    0.949028     0.519362\n",
              "co2_emissions        0.825725   0.834972  ...   -0.957189    -0.583690\n",
              "co2_rating          -0.781292  -0.770964  ...    1.000000     0.555065\n",
              "smog_rating         -0.504544  -0.532742  ...    0.555065     1.000000\n",
              "\n",
              "[9 rows x 9 columns]"
            ]
          },
          "metadata": {},
          "execution_count": 10
        }
      ]
    },
    {
      "cell_type": "code",
      "source": [
        "corr_m = dd.corr()\n",
        "\n",
        "rho = dd.corr()\n",
        "pval = dd.corr(method=lambda x, y: pearsonr(x, y)[1]) - np.eye(*rho.shape)\n",
        "p = pval.applymap(lambda x: \"\".join([\"*\" for t in [0.01, 0.05, 0.1] if x<=t]))\n",
        "p = rho.round(2).astype(str) + p\n",
        "\n",
        "p = np.tril(p.values, k=-1)\n",
        "\n",
        "p[p==0] = np.nan\n",
        "p = pd.DataFrame(p).dropna(axis=0, how=\"all\").dropna(axis=1, how=\"all\")\n",
        "\n",
        "# np.fill_diagonal(corr_m.values, np.nan)\n",
        "labels_m = ['Engine Size (L) ', 'Cylinders', 'Fuel Consumption City (L/100 km)','Fuel Consumption Highway (L/100 km)','Fuel Consumption Combined (L/100 km)' ,'Fuel Consumption mpg','CO₂ Emissions (g/km)','CO₂ Rating','Smog Rating']\n",
        "corr_m = np.tril(corr_m.values, k=-1)\n",
        "\n",
        "corr_m[corr_m==0] = np.nan\n",
        "\n",
        "heatmap_data = pd.DataFrame(corr_m, index=labels_m, columns=labels_m).round(2)\\\n",
        "                .dropna(axis=0, how=\"all\")\\\n",
        "                .dropna(axis=1, how=\"all\")\n",
        "\n",
        "sns.set(font_scale=0.8, rc={\"figure.figsize\": (8, 8)}, style=\"whitegrid\")\n",
        "matplotlib.rc(\"axes\", edgecolor=\"#000000\")\n",
        "matplotlib.rc(\"grid\", color=\"#eaeaea\")\n",
        "plt.rcParams[\"font.family\"] = \"Arial\"\n",
        "plt.rcParams[\"svg.fonttype\"] = \"none\"\n",
        "\n",
        "g = sns.heatmap(heatmap_data, vmin=-1, vmax=1, annot=p, cmap=\"PiYG\", fmt=\"\")\n",
        "\n",
        "g.set_ylim(heatmap_data.shape[0], 0)\n",
        "plt.xticks(rotation=90, fontsize=20)\n",
        "plt.yticks(rotation=0, fontsize=20)"
      ],
      "metadata": {
        "colab": {
          "base_uri": "https://localhost:8080/",
          "height": 970
        },
        "id": "Wy4eS2_wmtWf",
        "outputId": "4200f631-27a0-4af8-c21f-8324c10750c6"
      },
      "execution_count": null,
      "outputs": [
        {
          "output_type": "stream",
          "name": "stderr",
          "text": [
            "findfont: Font family ['Arial'] not found. Falling back to DejaVu Sans.\n"
          ]
        },
        {
          "output_type": "execute_result",
          "data": {
            "text/plain": [
              "(array([0.5, 1.5, 2.5, 3.5, 4.5, 5.5, 6.5, 7.5]),\n",
              " <a list of 8 Text major ticklabel objects>)"
            ]
          },
          "metadata": {},
          "execution_count": 11
        },
        {
          "output_type": "stream",
          "name": "stderr",
          "text": [
            "findfont: Font family ['Arial'] not found. Falling back to DejaVu Sans.\n",
            "findfont: Font family ['Arial'] not found. Falling back to DejaVu Sans.\n",
            "findfont: Font family ['Arial'] not found. Falling back to DejaVu Sans.\n"
          ]
        },
        {
          "output_type": "display_data",
          "data": {
            "image/png": "[encoded data removed]",
            "text/plain": [
              "<Figure size 576x576 with 2 Axes>"
            ]
          },
          "metadata": {}
        }
      ]
    },
    {
      "cell_type": "code",
      "source": [
        "from sklearn.linear_model import LinearRegression\n",
        "from sklearn.tree import DecisionTreeRegressor\n",
        "from sklearn.model_selection import train_test_split\n",
        "from sklearn.metrics import explained_variance_score, r2_score\n",
        "from sklearn.preprocessing import MinMaxScaler, StandardScaler\n",
        "from sklearn.ensemble import GradientBoostingRegressor\n",
        "from sklearn.ensemble import AdaBoostRegressor\n",
        "from sklearn.metrics import pairwise_distances_argmin\n"
      ],
      "metadata": {
        "id": "ofV9pYDxJz_u"
      },
      "execution_count": null,
      "outputs": []
    },
    {
      "cell_type": "code",
      "source": [
        "# scaler = MinMaxScaler(feature_range=(0, 1))\n",
        "scaler = StandardScaler()\n",
        "\n",
        "X_values = df[[\"engine_size\", \"cylinders\", \"fuel_consumption\", \"Hwy\", \"Comb\", \"Comb_mpg\", \"co2_rating\", \"smog_rating\"]].values\n",
        "y_values = df[[\"co2_emissions\"]].values\n",
        "\n",
        "X_values = np.concatenate((X_values, pd.get_dummies(df[\"fuel_type\"], drop_first=True).values), axis=1) # Includes dummy of Fuel Type\n",
        "X_values = np.concatenate((X_values, pd.get_dummies(df[\"transmission\"], drop_first=True).values), axis=1) # Includes dummy of Fuel Type\n",
        "\n",
        "X = scaler.fit_transform(X_values)\n",
        "y = scaler.fit_transform(y_values)\n",
        "\n",
        "X_train, X_test, y_train, y_test = train_test_split(X, y, test_size=0.33, random_state=0)"
      ],
      "metadata": {
        "id": "tx_VoGNSMq7c"
      },
      "execution_count": null,
      "outputs": []
    },
    {
      "cell_type": "code",
      "source": [
        "X_train.shape"
      ],
      "metadata": {
        "colab": {
          "base_uri": "https://localhost:8080/"
        },
        "id": "_tuxOypyMpqr",
        "outputId": "a2a045c0-dbd9-4ddb-d2fc-90359d4b425a"
      },
      "execution_count": null,
      "outputs": [
        {
          "output_type": "execute_result",
          "data": {
            "text/plain": [
              "(626, 15)"
            ]
          },
          "metadata": {},
          "execution_count": 14
        }
      ]
    },
    {
      "cell_type": "code",
      "source": [
        "tmp = df.sample(100)\n",
        "\n",
        "display(pd.DataFrame(tmp[\"fuel_type\"]))\n",
        "\n",
        "display(pd.get_dummies(tmp[\"fuel_type\"], drop_first=True))"
      ],
      "metadata": {
        "colab": {
          "base_uri": "https://localhost:8080/",
          "height": 830
        },
        "id": "IGcmLZzTGtzm",
        "outputId": "ae714a7d-cd39-4d1a-ade8-b2f69270b52e"
      },
      "execution_count": null,
      "outputs": [
        {
          "output_type": "display_data",
          "data": {
            "text/html": [
              "\n",
              "  <div id=\"df-2c449fa4-48ad-4395-8124-1dc879012e86\">\n",
              "    <div class=\"colab-df-container\">\n",
              "      <div>\n",
              "<style scoped>\n",
              "    .dataframe tbody tr th:only-of-type {\n",
              "        vertical-align: middle;\n",
              "    }\n",
              "\n",
              "    .dataframe tbody tr th {\n",
              "        vertical-align: top;\n",
              "    }\n",
              "\n",
              "    .dataframe thead th {\n",
              "        text-align: right;\n",
              "    }\n",
              "</style>\n",
              "<table border=\"1\" class=\"dataframe\">\n",
              "  <thead>\n",
              "    <tr style=\"text-align: right;\">\n",
              "      <th></th>\n",
              "      <th>fuel_type</th>\n",
              "    </tr>\n",
              "  </thead>\n",
              "  <tbody>\n",
              "    <tr>\n",
              "      <th>769</th>\n",
              "      <td>Z</td>\n",
              "    </tr>\n",
              "    <tr>\n",
              "      <th>418</th>\n",
              "      <td>X</td>\n",
              "    </tr>\n",
              "    <tr>\n",
              "      <th>190</th>\n",
              "      <td>X</td>\n",
              "    </tr>\n",
              "    <tr>\n",
              "      <th>312</th>\n",
              "      <td>X</td>\n",
              "    </tr>\n",
              "    <tr>\n",
              "      <th>515</th>\n",
              "      <td>X</td>\n",
              "    </tr>\n",
              "    <tr>\n",
              "      <th>...</th>\n",
              "      <td>...</td>\n",
              "    </tr>\n",
              "    <tr>\n",
              "      <th>499</th>\n",
              "      <td>D</td>\n",
              "    </tr>\n",
              "    <tr>\n",
              "      <th>705</th>\n",
              "      <td>Z</td>\n",
              "    </tr>\n",
              "    <tr>\n",
              "      <th>662</th>\n",
              "      <td>Z</td>\n",
              "    </tr>\n",
              "    <tr>\n",
              "      <th>517</th>\n",
              "      <td>X</td>\n",
              "    </tr>\n",
              "    <tr>\n",
              "      <th>933</th>\n",
              "      <td>Z</td>\n",
              "    </tr>\n",
              "  </tbody>\n",
              "</table>\n",
              "<p>100 rows × 1 columns</p>\n",
              "</div>\n",
              "      <button class=\"colab-df-convert\" onclick=\"convertToInteractive('df-2c449fa4-48ad-4395-8124-1dc879012e86')\"\n",
              "              title=\"Convert this dataframe to an interactive table.\"\n",
              "              style=\"display:none;\">\n",
              "        \n",
              "  <svg xmlns=\"http://www.w3.org/2000/svg\" height=\"24px\"viewBox=\"0 0 24 24\"\n",
              "       width=\"24px\">\n",
              "    <path d=\"M0 0h24v24H0V0z\" fill=\"none\"/>\n",
              "    <path d=\"M18.56 5.44l.94 2.06.94-2.06 2.06-.94-2.06-.94-.94-2.06-.94 2.06-2.06.94zm-11 1L8.5 8.5l.94-2.06 2.06-.94-2.06-.94L8.5 2.5l-.94 2.06-2.06.94zm10 10l.94 2.06.94-2.06 2.06-.94-2.06-.94-.94-2.06-.94 2.06-2.06.94z\"/><path d=\"M17.41 7.96l-1.37-1.37c-.4-.4-.92-.59-1.43-.59-.52 0-1.04.2-1.43.59L10.3 9.45l-7.72 7.72c-.78.78-.78 2.05 0 2.83L4 21.41c.39.39.9.59 1.41.59.51 0 1.02-.2 1.41-.59l7.78-7.78 2.81-2.81c.8-.78.8-2.07 0-2.86zM5.41 20L4 18.59l7.72-7.72 1.47 1.35L5.41 20z\"/>\n",
              "  </svg>\n",
              "      </button>\n",
              "      \n",
              "  <style>\n",
              "    .colab-df-container {\n",
              "      display:flex;\n",
              "      flex-wrap:wrap;\n",
              "      gap: 12px;\n",
              "    }\n",
              "\n",
              "    .colab-df-convert {\n",
              "      background-color: #E8F0FE;\n",
              "      border: none;\n",
              "      border-radius: 50%;\n",
              "      cursor: pointer;\n",
              "      display: none;\n",
              "      fill: #1967D2;\n",
              "      height: 32px;\n",
              "      padding: 0 0 0 0;\n",
              "      width: 32px;\n",
              "    }\n",
              "\n",
              "    .colab-df-convert:hover {\n",
              "      background-color: #E2EBFA;\n",
              "      box-shadow: 0px 1px 2px rgba(60, 64, 67, 0.3), 0px 1px 3px 1px rgba(60, 64, 67, 0.15);\n",
              "      fill: #174EA6;\n",
              "    }\n",
              "\n",
              "    [theme=dark] .colab-df-convert {\n",
              "      background-color: #3B4455;\n",
              "      fill: #D2E3FC;\n",
              "    }\n",
              "\n",
              "    [theme=dark] .colab-df-convert:hover {\n",
              "      background-color: #434B5C;\n",
              "      box-shadow: 0px 1px 3px 1px rgba(0, 0, 0, 0.15);\n",
              "      filter: drop-shadow(0px 1px 2px rgba(0, 0, 0, 0.3));\n",
              "      fill: #FFFFFF;\n",
              "    }\n",
              "  </style>\n",
              "\n",
              "      <script>\n",
              "        const buttonEl =\n",
              "          document.querySelector('#df-2c449fa4-48ad-4395-8124-1dc879012e86 button.colab-df-convert');\n",
              "        buttonEl.style.display =\n",
              "          google.colab.kernel.accessAllowed ? 'block' : 'none';\n",
              "\n",
              "        async function convertToInteractive(key) {\n",
              "          const element = document.querySelector('#df-2c449fa4-48ad-4395-8124-1dc879012e86');\n",
              "          const dataTable =\n",
              "            await google.colab.kernel.invokeFunction('convertToInteractive',\n",
              "                                                     [key], {});\n",
              "          if (!dataTable) return;\n",
              "\n",
              "          const docLinkHtml = 'Like what you see? Visit the ' +\n",
              "            '<a target=\"_blank\" href=https://colab.research.google.com/notebooks/data_table.ipynb>data table notebook</a>'\n",
              "            + ' to learn more about interactive tables.';\n",
              "          element.innerHTML = '';\n",
              "          dataTable['output_type'] = 'display_data';\n",
              "          await google.colab.output.renderOutput(dataTable, element);\n",
              "          const docLink = document.createElement('div');\n",
              "          docLink.innerHTML = docLinkHtml;\n",
              "          element.appendChild(docLink);\n",
              "        }\n",
              "      </script>\n",
              "    </div>\n",
              "  </div>\n",
              "  "
            ],
            "text/plain": [
              "    fuel_type\n",
              "769         Z\n",
              "418         X\n",
              "190         X\n",
              "312         X\n",
              "515         X\n",
              "..        ...\n",
              "499         D\n",
              "705         Z\n",
              "662         Z\n",
              "517         X\n",
              "933         Z\n",
              "\n",
              "[100 rows x 1 columns]"
            ]
          },
          "metadata": {}
        },
        {
          "output_type": "display_data",
          "data": {
            "text/html": [
              "\n",
              "  <div id=\"df-b501883a-172b-44a5-93d9-b0baac4898e1\">\n",
              "    <div class=\"colab-df-container\">\n",
              "      <div>\n",
              "<style scoped>\n",
              "    .dataframe tbody tr th:only-of-type {\n",
              "        vertical-align: middle;\n",
              "    }\n",
              "\n",
              "    .dataframe tbody tr th {\n",
              "        vertical-align: top;\n",
              "    }\n",
              "\n",
              "    .dataframe thead th {\n",
              "        text-align: right;\n",
              "    }\n",
              "</style>\n",
              "<table border=\"1\" class=\"dataframe\">\n",
              "  <thead>\n",
              "    <tr style=\"text-align: right;\">\n",
              "      <th></th>\n",
              "      <th>E</th>\n",
              "      <th>X</th>\n",
              "      <th>Z</th>\n",
              "    </tr>\n",
              "  </thead>\n",
              "  <tbody>\n",
              "    <tr>\n",
              "      <th>769</th>\n",
              "      <td>0</td>\n",
              "      <td>0</td>\n",
              "      <td>1</td>\n",
              "    </tr>\n",
              "    <tr>\n",
              "      <th>418</th>\n",
              "      <td>0</td>\n",
              "      <td>1</td>\n",
              "      <td>0</td>\n",
              "    </tr>\n",
              "    <tr>\n",
              "      <th>190</th>\n",
              "      <td>0</td>\n",
              "      <td>1</td>\n",
              "      <td>0</td>\n",
              "    </tr>\n",
              "    <tr>\n",
              "      <th>312</th>\n",
              "      <td>0</td>\n",
              "      <td>1</td>\n",
              "      <td>0</td>\n",
              "    </tr>\n",
              "    <tr>\n",
              "      <th>515</th>\n",
              "      <td>0</td>\n",
              "      <td>1</td>\n",
              "      <td>0</td>\n",
              "    </tr>\n",
              "    <tr>\n",
              "      <th>...</th>\n",
              "      <td>...</td>\n",
              "      <td>...</td>\n",
              "      <td>...</td>\n",
              "    </tr>\n",
              "    <tr>\n",
              "      <th>499</th>\n",
              "      <td>0</td>\n",
              "      <td>0</td>\n",
              "      <td>0</td>\n",
              "    </tr>\n",
              "    <tr>\n",
              "      <th>705</th>\n",
              "      <td>0</td>\n",
              "      <td>0</td>\n",
              "      <td>1</td>\n",
              "    </tr>\n",
              "    <tr>\n",
              "      <th>662</th>\n",
              "      <td>0</td>\n",
              "      <td>0</td>\n",
              "      <td>1</td>\n",
              "    </tr>\n",
              "    <tr>\n",
              "      <th>517</th>\n",
              "      <td>0</td>\n",
              "      <td>1</td>\n",
              "      <td>0</td>\n",
              "    </tr>\n",
              "    <tr>\n",
              "      <th>933</th>\n",
              "      <td>0</td>\n",
              "      <td>0</td>\n",
              "      <td>1</td>\n",
              "    </tr>\n",
              "  </tbody>\n",
              "</table>\n",
              "<p>100 rows × 3 columns</p>\n",
              "</div>\n",
              "      <button class=\"colab-df-convert\" onclick=\"convertToInteractive('df-b501883a-172b-44a5-93d9-b0baac4898e1')\"\n",
              "              title=\"Convert this dataframe to an interactive table.\"\n",
              "              style=\"display:none;\">\n",
              "        \n",
              "  <svg xmlns=\"http://www.w3.org/2000/svg\" height=\"24px\"viewBox=\"0 0 24 24\"\n",
              "       width=\"24px\">\n",
              "    <path d=\"M0 0h24v24H0V0z\" fill=\"none\"/>\n",
              "    <path d=\"M18.56 5.44l.94 2.06.94-2.06 2.06-.94-2.06-.94-.94-2.06-.94 2.06-2.06.94zm-11 1L8.5 8.5l.94-2.06 2.06-.94-2.06-.94L8.5 2.5l-.94 2.06-2.06.94zm10 10l.94 2.06.94-2.06 2.06-.94-2.06-.94-.94-2.06-.94 2.06-2.06.94z\"/><path d=\"M17.41 7.96l-1.37-1.37c-.4-.4-.92-.59-1.43-.59-.52 0-1.04.2-1.43.59L10.3 9.45l-7.72 7.72c-.78.78-.78 2.05 0 2.83L4 21.41c.39.39.9.59 1.41.59.51 0 1.02-.2 1.41-.59l7.78-7.78 2.81-2.81c.8-.78.8-2.07 0-2.86zM5.41 20L4 18.59l7.72-7.72 1.47 1.35L5.41 20z\"/>\n",
              "  </svg>\n",
              "      </button>\n",
              "      \n",
              "  <style>\n",
              "    .colab-df-container {\n",
              "      display:flex;\n",
              "      flex-wrap:wrap;\n",
              "      gap: 12px;\n",
              "    }\n",
              "\n",
              "    .colab-df-convert {\n",
              "      background-color: #E8F0FE;\n",
              "      border: none;\n",
              "      border-radius: 50%;\n",
              "      cursor: pointer;\n",
              "      display: none;\n",
              "      fill: #1967D2;\n",
              "      height: 32px;\n",
              "      padding: 0 0 0 0;\n",
              "      width: 32px;\n",
              "    }\n",
              "\n",
              "    .colab-df-convert:hover {\n",
              "      background-color: #E2EBFA;\n",
              "      box-shadow: 0px 1px 2px rgba(60, 64, 67, 0.3), 0px 1px 3px 1px rgba(60, 64, 67, 0.15);\n",
              "      fill: #174EA6;\n",
              "    }\n",
              "\n",
              "    [theme=dark] .colab-df-convert {\n",
              "      background-color: #3B4455;\n",
              "      fill: #D2E3FC;\n",
              "    }\n",
              "\n",
              "    [theme=dark] .colab-df-convert:hover {\n",
              "      background-color: #434B5C;\n",
              "      box-shadow: 0px 1px 3px 1px rgba(0, 0, 0, 0.15);\n",
              "      filter: drop-shadow(0px 1px 2px rgba(0, 0, 0, 0.3));\n",
              "      fill: #FFFFFF;\n",
              "    }\n",
              "  </style>\n",
              "\n",
              "      <script>\n",
              "        const buttonEl =\n",
              "          document.querySelector('#df-b501883a-172b-44a5-93d9-b0baac4898e1 button.colab-df-convert');\n",
              "        buttonEl.style.display =\n",
              "          google.colab.kernel.accessAllowed ? 'block' : 'none';\n",
              "\n",
              "        async function convertToInteractive(key) {\n",
              "          const element = document.querySelector('#df-b501883a-172b-44a5-93d9-b0baac4898e1');\n",
              "          const dataTable =\n",
              "            await google.colab.kernel.invokeFunction('convertToInteractive',\n",
              "                                                     [key], {});\n",
              "          if (!dataTable) return;\n",
              "\n",
              "          const docLinkHtml = 'Like what you see? Visit the ' +\n",
              "            '<a target=\"_blank\" href=https://colab.research.google.com/notebooks/data_table.ipynb>data table notebook</a>'\n",
              "            + ' to learn more about interactive tables.';\n",
              "          element.innerHTML = '';\n",
              "          dataTable['output_type'] = 'display_data';\n",
              "          await google.colab.output.renderOutput(dataTable, element);\n",
              "          const docLink = document.createElement('div');\n",
              "          docLink.innerHTML = docLinkHtml;\n",
              "          element.appendChild(docLink);\n",
              "        }\n",
              "      </script>\n",
              "    </div>\n",
              "  </div>\n",
              "  "
            ],
            "text/plain": [
              "     E  X  Z\n",
              "769  0  0  1\n",
              "418  0  1  0\n",
              "190  0  1  0\n",
              "312  0  1  0\n",
              "515  0  1  0\n",
              "..  .. .. ..\n",
              "499  0  0  0\n",
              "705  0  0  1\n",
              "662  0  0  1\n",
              "517  0  1  0\n",
              "933  0  0  1\n",
              "\n",
              "[100 rows x 3 columns]"
            ]
          },
          "metadata": {}
        }
      ]
    },
    {
      "cell_type": "code",
      "source": [
        ""
      ],
      "metadata": {
        "id": "DJf7YMPnGiq5"
      },
      "execution_count": null,
      "outputs": []
    },
    {
      "cell_type": "code",
      "source": [
        "X_values.shape"
      ],
      "metadata": {
        "id": "-gd-KxKXhBWG",
        "colab": {
          "base_uri": "https://localhost:8080/"
        },
        "outputId": "47a5f898-4fe0-4ff3-ab44-e8ec30c820c4"
      },
      "execution_count": null,
      "outputs": [
        {
          "output_type": "execute_result",
          "data": {
            "text/plain": [
              "(935, 15)"
            ]
          },
          "metadata": {},
          "execution_count": 16
        }
      ]
    },
    {
      "cell_type": "code",
      "source": [
        "#Kmeans analysis\n",
        "n_clusters = 3\n",
        "\n",
        "rng = np.random.RandomState(150)\n",
        "i = rng.permutation(X_values.shape[0])[:n_clusters]\n",
        "centers = X_values[i]\n",
        "print(i)\n",
        "print(centers)"
      ],
      "metadata": {
        "colab": {
          "base_uri": "https://localhost:8080/"
        },
        "id": "CASsnr8JwEk2",
        "outputId": "22713b05-6dca-43fc-f978-8c13f0035821"
      },
      "execution_count": null,
      "outputs": [
        {
          "output_type": "stream",
          "name": "stdout",
          "text": [
            "[469 714 291]\n",
            "[[ 2.   4.  10.8  9.2 10.1 28.   5.   5.   0.   1.   0.   0.   1.   0.\n",
            "   0. ]\n",
            " [ 2.   4.  10.2  7.1  8.8 32.   6.   7.   0.   0.   1.   0.   0.   0.\n",
            "   1. ]\n",
            " [ 2.5  4.   5.5  6.4  5.9 48.   8.   7.   0.   1.   0.   0.   0.   1.\n",
            "   0. ]]\n"
          ]
        }
      ]
    },
    {
      "cell_type": "code",
      "source": [
        "labels = pairwise_distances_argmin(X_values, centers)\n",
        "\n",
        "sns.scatterplot(X_values[:, 0], X_values[:, 1], c=labels, s=50, cmap='viridis')\n",
        "plt.scatter(centers[:, 0], centers[:, 1], c='black', s=200, alpha=0.5);"
      ],
      "metadata": {
        "colab": {
          "base_uri": "https://localhost:8080/",
          "height": 538
        },
        "id": "4volWV0-wObi",
        "outputId": "8b8d6f2b-2274-4635-f1b9-ba6eef54e7ed"
      },
      "execution_count": null,
      "outputs": [
        {
          "output_type": "stream",
          "name": "stderr",
          "text": [
            "/usr/local/lib/python3.7/dist-packages/seaborn/_decorators.py:43: FutureWarning: Pass the following variables as keyword args: x, y. From version 0.12, the only valid positional argument will be `data`, and passing other arguments without an explicit keyword will result in an error or misinterpretation.\n",
            "  FutureWarning\n"
          ]
        },
        {
          "output_type": "display_data",
          "data": {
            "image/png": "[encoded data removed]",
            "text/plain": [
              "<Figure size 576x576 with 1 Axes>"
            ]
          },
          "metadata": {}
        }
      ]
    },
    {
      "cell_type": "code",
      "source": [
        "## PCA Analysis"
      ],
      "metadata": {
        "id": "DHmuLBJkkPEo"
      },
      "execution_count": null,
      "outputs": []
    },
    {
      "cell_type": "code",
      "source": [
        "pd.DataFrame(X).head()"
      ],
      "metadata": {
        "colab": {
          "base_uri": "https://localhost:8080/",
          "height": 206
        },
        "id": "jkkU_wIZc_K7",
        "outputId": "67f96a60-55af-4310-d1ea-f0073e427102"
      },
      "execution_count": null,
      "outputs": [
        {
          "output_type": "execute_result",
          "data": {
            "text/html": [
              "\n",
              "  <div id=\"df-0e2c6615-5371-4936-ba59-5b99b9604b7f\">\n",
              "    <div class=\"colab-df-container\">\n",
              "      <div>\n",
              "<style scoped>\n",
              "    .dataframe tbody tr th:only-of-type {\n",
              "        vertical-align: middle;\n",
              "    }\n",
              "\n",
              "    .dataframe tbody tr th {\n",
              "        vertical-align: top;\n",
              "    }\n",
              "\n",
              "    .dataframe thead th {\n",
              "        text-align: right;\n",
              "    }\n",
              "</style>\n",
              "<table border=\"1\" class=\"dataframe\">\n",
              "  <thead>\n",
              "    <tr style=\"text-align: right;\">\n",
              "      <th></th>\n",
              "      <th>0</th>\n",
              "      <th>1</th>\n",
              "      <th>2</th>\n",
              "      <th>3</th>\n",
              "      <th>4</th>\n",
              "      <th>5</th>\n",
              "      <th>6</th>\n",
              "      <th>7</th>\n",
              "      <th>8</th>\n",
              "      <th>9</th>\n",
              "      <th>10</th>\n",
              "      <th>11</th>\n",
              "      <th>12</th>\n",
              "      <th>13</th>\n",
              "      <th>14</th>\n",
              "    </tr>\n",
              "  </thead>\n",
              "  <tbody>\n",
              "    <tr>\n",
              "      <th>0</th>\n",
              "      <td>-0.587177</td>\n",
              "      <td>-0.868581</td>\n",
              "      <td>-0.745569</td>\n",
              "      <td>-1.041347</td>\n",
              "      <td>-0.858565</td>\n",
              "      <td>0.731844</td>\n",
              "      <td>1.001713</td>\n",
              "      <td>-1.008761</td>\n",
              "      <td>-0.123292</td>\n",
              "      <td>-0.975696</td>\n",
              "      <td>1.065224</td>\n",
              "      <td>2.557405</td>\n",
              "      <td>-0.794835</td>\n",
              "      <td>-0.31827</td>\n",
              "      <td>-0.307974</td>\n",
              "    </tr>\n",
              "    <tr>\n",
              "      <th>1</th>\n",
              "      <td>0.205462</td>\n",
              "      <td>0.143411</td>\n",
              "      <td>-0.401276</td>\n",
              "      <td>0.674512</td>\n",
              "      <td>-0.021013</td>\n",
              "      <td>-0.174137</td>\n",
              "      <td>-0.217820</td>\n",
              "      <td>-1.008761</td>\n",
              "      <td>-0.123292</td>\n",
              "      <td>-0.975696</td>\n",
              "      <td>1.065224</td>\n",
              "      <td>2.557405</td>\n",
              "      <td>-0.794835</td>\n",
              "      <td>-0.31827</td>\n",
              "      <td>-0.307974</td>\n",
              "    </tr>\n",
              "    <tr>\n",
              "      <th>2</th>\n",
              "      <td>-0.875409</td>\n",
              "      <td>-0.868581</td>\n",
              "      <td>-0.429967</td>\n",
              "      <td>-0.318880</td>\n",
              "      <td>-0.404891</td>\n",
              "      <td>0.214141</td>\n",
              "      <td>0.391946</td>\n",
              "      <td>0.744383</td>\n",
              "      <td>-0.123292</td>\n",
              "      <td>-0.975696</td>\n",
              "      <td>1.065224</td>\n",
              "      <td>-0.391021</td>\n",
              "      <td>1.258123</td>\n",
              "      <td>-0.31827</td>\n",
              "      <td>-0.307974</td>\n",
              "    </tr>\n",
              "    <tr>\n",
              "      <th>3</th>\n",
              "      <td>-0.875409</td>\n",
              "      <td>-0.868581</td>\n",
              "      <td>-0.343894</td>\n",
              "      <td>-0.093109</td>\n",
              "      <td>-0.265299</td>\n",
              "      <td>-0.044711</td>\n",
              "      <td>0.391946</td>\n",
              "      <td>0.744383</td>\n",
              "      <td>-0.123292</td>\n",
              "      <td>-0.975696</td>\n",
              "      <td>1.065224</td>\n",
              "      <td>-0.391021</td>\n",
              "      <td>1.258123</td>\n",
              "      <td>-0.31827</td>\n",
              "      <td>-0.307974</td>\n",
              "    </tr>\n",
              "    <tr>\n",
              "      <th>4</th>\n",
              "      <td>-0.875409</td>\n",
              "      <td>-0.868581</td>\n",
              "      <td>-0.372585</td>\n",
              "      <td>-0.589805</td>\n",
              "      <td>-0.439789</td>\n",
              "      <td>0.214141</td>\n",
              "      <td>0.391946</td>\n",
              "      <td>1.328765</td>\n",
              "      <td>-0.123292</td>\n",
              "      <td>-0.975696</td>\n",
              "      <td>1.065224</td>\n",
              "      <td>-0.391021</td>\n",
              "      <td>1.258123</td>\n",
              "      <td>-0.31827</td>\n",
              "      <td>-0.307974</td>\n",
              "    </tr>\n",
              "  </tbody>\n",
              "</table>\n",
              "</div>\n",
              "      <button class=\"colab-df-convert\" onclick=\"convertToInteractive('df-0e2c6615-5371-4936-ba59-5b99b9604b7f')\"\n",
              "              title=\"Convert this dataframe to an interactive table.\"\n",
              "              style=\"display:none;\">\n",
              "        \n",
              "  <svg xmlns=\"http://www.w3.org/2000/svg\" height=\"24px\"viewBox=\"0 0 24 24\"\n",
              "       width=\"24px\">\n",
              "    <path d=\"M0 0h24v24H0V0z\" fill=\"none\"/>\n",
              "    <path d=\"M18.56 5.44l.94 2.06.94-2.06 2.06-.94-2.06-.94-.94-2.06-.94 2.06-2.06.94zm-11 1L8.5 8.5l.94-2.06 2.06-.94-2.06-.94L8.5 2.5l-.94 2.06-2.06.94zm10 10l.94 2.06.94-2.06 2.06-.94-2.06-.94-.94-2.06-.94 2.06-2.06.94z\"/><path d=\"M17.41 7.96l-1.37-1.37c-.4-.4-.92-.59-1.43-.59-.52 0-1.04.2-1.43.59L10.3 9.45l-7.72 7.72c-.78.78-.78 2.05 0 2.83L4 21.41c.39.39.9.59 1.41.59.51 0 1.02-.2 1.41-.59l7.78-7.78 2.81-2.81c.8-.78.8-2.07 0-2.86zM5.41 20L4 18.59l7.72-7.72 1.47 1.35L5.41 20z\"/>\n",
              "  </svg>\n",
              "      </button>\n",
              "      \n",
              "  <style>\n",
              "    .colab-df-container {\n",
              "      display:flex;\n",
              "      flex-wrap:wrap;\n",
              "      gap: 12px;\n",
              "    }\n",
              "\n",
              "    .colab-df-convert {\n",
              "      background-color: #E8F0FE;\n",
              "      border: none;\n",
              "      border-radius: 50%;\n",
              "      cursor: pointer;\n",
              "      display: none;\n",
              "      fill: #1967D2;\n",
              "      height: 32px;\n",
              "      padding: 0 0 0 0;\n",
              "      width: 32px;\n",
              "    }\n",
              "\n",
              "    .colab-df-convert:hover {\n",
              "      background-color: #E2EBFA;\n",
              "      box-shadow: 0px 1px 2px rgba(60, 64, 67, 0.3), 0px 1px 3px 1px rgba(60, 64, 67, 0.15);\n",
              "      fill: #174EA6;\n",
              "    }\n",
              "\n",
              "    [theme=dark] .colab-df-convert {\n",
              "      background-color: #3B4455;\n",
              "      fill: #D2E3FC;\n",
              "    }\n",
              "\n",
              "    [theme=dark] .colab-df-convert:hover {\n",
              "      background-color: #434B5C;\n",
              "      box-shadow: 0px 1px 3px 1px rgba(0, 0, 0, 0.15);\n",
              "      filter: drop-shadow(0px 1px 2px rgba(0, 0, 0, 0.3));\n",
              "      fill: #FFFFFF;\n",
              "    }\n",
              "  </style>\n",
              "\n",
              "      <script>\n",
              "        const buttonEl =\n",
              "          document.querySelector('#df-0e2c6615-5371-4936-ba59-5b99b9604b7f button.colab-df-convert');\n",
              "        buttonEl.style.display =\n",
              "          google.colab.kernel.accessAllowed ? 'block' : 'none';\n",
              "\n",
              "        async function convertToInteractive(key) {\n",
              "          const element = document.querySelector('#df-0e2c6615-5371-4936-ba59-5b99b9604b7f');\n",
              "          const dataTable =\n",
              "            await google.colab.kernel.invokeFunction('convertToInteractive',\n",
              "                                                     [key], {});\n",
              "          if (!dataTable) return;\n",
              "\n",
              "          const docLinkHtml = 'Like what you see? Visit the ' +\n",
              "            '<a target=\"_blank\" href=https://colab.research.google.com/notebooks/data_table.ipynb>data table notebook</a>'\n",
              "            + ' to learn more about interactive tables.';\n",
              "          element.innerHTML = '';\n",
              "          dataTable['output_type'] = 'display_data';\n",
              "          await google.colab.output.renderOutput(dataTable, element);\n",
              "          const docLink = document.createElement('div');\n",
              "          docLink.innerHTML = docLinkHtml;\n",
              "          element.appendChild(docLink);\n",
              "        }\n",
              "      </script>\n",
              "    </div>\n",
              "  </div>\n",
              "  "
            ],
            "text/plain": [
              "         0         1         2   ...        12       13        14\n",
              "0 -0.587177 -0.868581 -0.745569  ... -0.794835 -0.31827 -0.307974\n",
              "1  0.205462  0.143411 -0.401276  ... -0.794835 -0.31827 -0.307974\n",
              "2 -0.875409 -0.868581 -0.429967  ...  1.258123 -0.31827 -0.307974\n",
              "3 -0.875409 -0.868581 -0.343894  ...  1.258123 -0.31827 -0.307974\n",
              "4 -0.875409 -0.868581 -0.372585  ...  1.258123 -0.31827 -0.307974\n",
              "\n",
              "[5 rows x 15 columns]"
            ]
          },
          "metadata": {},
          "execution_count": 20
        }
      ]
    },
    {
      "cell_type": "code",
      "source": [
        "strPCA = []\n",
        "nCompPca = []\n",
        "for x in range (1, X.shape[1] + 1):\n",
        "  pca = PCA(n_components=x)\n",
        "  X_pca = pca.fit_transform(X)\n",
        "  strPCA.append (pca.explained_variance_ratio_.sum())\n",
        "  nCompPca.append(x)\n",
        "plt.plot(nCompPca,strPCA,linewidth=3.0, color = 'g')\n",
        "\n",
        "plt.axhline(0.95, color='r', linestyle='dashed',linewidth=2)\n",
        "plt.xticks(fontsize=18)\n",
        "plt.yticks(fontsize=18)\n",
        "\n",
        "plt.xlabel('Principle Component Index', fontsize=18)\n",
        "plt.ylabel('Explained Variance Ratio',fontsize=18 )\n"
      ],
      "metadata": {
        "id": "QrNdwkqXkSa7",
        "colab": {
          "base_uri": "https://localhost:8080/",
          "height": 532
        },
        "outputId": "39e871c7-8f37-4227-b549-606ad0156a39"
      },
      "execution_count": null,
      "outputs": [
        {
          "output_type": "execute_result",
          "data": {
            "text/plain": [
              "Text(0, 0.5, 'Explained Variance Ratio')"
            ]
          },
          "metadata": {},
          "execution_count": 21
        },
        {
          "output_type": "stream",
          "name": "stderr",
          "text": [
            "findfont: Font family ['Arial'] not found. Falling back to DejaVu Sans.\n"
          ]
        },
        {
          "output_type": "display_data",
          "data": {
            "image/png": "[encoded data removed]",
            "text/plain": [
              "<Figure size 576x576 with 1 Axes>"
            ]
          },
          "metadata": {}
        }
      ]
    },
    {
      "cell_type": "code",
      "source": [
        ""
      ],
      "metadata": {
        "id": "ixwOriMaqzXX"
      },
      "execution_count": null,
      "outputs": []
    },
    {
      "cell_type": "code",
      "source": [
        "sns.set(font_scale=2, rc={\"figure.figsize\": (7, 7)}, style=\"whitegrid\")\n",
        "matplotlib.rc(\"axes\", edgecolor=\"#000000\")\n",
        "matplotlib.rc(\"grid\", color=\"#eaeaea\")\n",
        "plt.rcParams[\"font.family\"] = \"Arial\"\n",
        "plt.rcParams[\"svg.fonttype\"] = \"none\"\n",
        "\n",
        "g = sns.scatterplot(x=X_pca[:, 0], y=X_pca[:, 1], hue=df[\"fuel_type\"], s=100)\n",
        "g.legend(loc=\"center left\", bbox_to_anchor=(1, 0.5))\n"
      ],
      "metadata": {
        "colab": {
          "base_uri": "https://localhost:8080/",
          "height": 458
        },
        "id": "DIu40astknx4",
        "outputId": "01f14a75-d30d-4812-8be0-c7092282e0d3"
      },
      "execution_count": null,
      "outputs": [
        {
          "output_type": "execute_result",
          "data": {
            "text/plain": [
              "<matplotlib.legend.Legend at 0x7fa71812d810>"
            ]
          },
          "metadata": {},
          "execution_count": 22
        },
        {
          "output_type": "stream",
          "name": "stderr",
          "text": [
            "findfont: Font family ['Arial'] not found. Falling back to DejaVu Sans.\n"
          ]
        },
        {
          "output_type": "display_data",
          "data": {
            "image/png": "[encoded data removed]",
            "text/plain": [
              "<Figure size 504x504 with 1 Axes>"
            ]
          },
          "metadata": {}
        }
      ]
    },
    {
      "cell_type": "code",
      "source": [
        ""
      ],
      "metadata": {
        "id": "yd4O0ZJhoF0_"
      },
      "execution_count": null,
      "outputs": []
    },
    {
      "cell_type": "code",
      "source": [
        ""
      ],
      "metadata": {
        "id": "YZsYVzN3nZLK"
      },
      "execution_count": null,
      "outputs": []
    },
    {
      "cell_type": "code",
      "source": [
        "params = {\n",
        "    \"n_estimators\": 500,\n",
        "    \"max_depth\": 4,\n",
        "    \"min_samples_split\": 5,\n",
        "    \"learning_rate\": 0.01,\n",
        "    \"loss\": \"squared_error\",\n",
        "}\n",
        "\n",
        "# scaler = MinMaxScaler(feature_range=(0, 1))\n",
        "scaler = StandardScaler()\n",
        "\n",
        "X_values = df[[\"engine_size\", \"cylinders\", \"fuel_consumption\", \"Hwy\", \"Comb\", \"Comb_mpg\", \"co2_rating\", \"smog_rating\"]].values\n",
        "X_values2 = df[[\"fuel_consumption\"]].values\n",
        "X_values3 = df[[\"engine_size\", \"cylinders\", \"fuel_consumption\", \"Hwy\", \"Comb\", \"Comb_mpg\", \"co2_rating\", \"smog_rating\"]].values\n",
        "\n",
        "y_values = df[[\"co2_emissions\"]].values\n",
        "\n",
        "X_values = np.concatenate((X_values, pd.get_dummies(df[\"fuel_type\"], drop_first=True).values), axis=1) # Includes dummy of Fuel Type\n",
        "X_values = np.concatenate((X_values, pd.get_dummies(df[\"transmission\"], drop_first=True).values), axis=1) # Includes dummy of Fuel Type\n",
        "\n",
        "X = scaler.fit_transform(X_values)\n",
        "X2 = scaler.fit_transform(X_values2)\n",
        "X3 = scaler.fit_transform(X_values3)\n",
        "y = scaler.fit_transform(y_values)\n",
        "\n",
        "X_train, X_test, y_train, y_test = train_test_split(X, y, test_size=0.33, random_state=0)\n",
        "\n",
        "output = []\n",
        "for label, X_data in [(\"Data 1\", X2), (\"Data 2\", X3), (\"Data 3\", X)]:\n",
        "    X_train, X_test, y_train, y_test = train_test_split(X_data, y, test_size=0.33, random_state=0)\n",
        "    for random_state in range(0, 50):\n",
        "      models = [\n",
        "        (\"Decision Tree (Depth=3)\", DecisionTreeRegressor(max_depth=3, random_state=random_state)),\n",
        "        (\"Decision Tree (Depth=4)\", DecisionTreeRegressor(max_depth=4, random_state=random_state)),\n",
        "        (\"Linear Regression\", LinearRegression()),\n",
        "        (\"Gradient Boosting\", GradientBoostingRegressor(random_state=random_state)), # https://scikit-learn.org/stable/auto_examples/ensemble/plot_gradient_boosting_regression.html\n",
        "        (\"AdaBoostRegressor (Default)\", AdaBoostRegressor(random_state=random_state)),\n",
        "        (\"AdaBoostRegressor (DT)\", AdaBoostRegressor(DecisionTreeRegressor(max_depth=4, random_state=random_state), n_estimators=300, random_state=random_state))\n",
        "      ]\n",
        "      for name, model in models:\n",
        "          reg = model.fit(X_train, np.ravel(y_train))\n",
        "\n",
        "          y_pred = reg.predict(X_test)\n",
        "          output.append({\n",
        "              \"name\": name,\n",
        "              \"label\": label,\n",
        "              \"r2_score\": r2_score(y_test, y_pred),\n",
        "              \"explained_variance_score\": explained_variance_score(y_test, y_pred)\n",
        "          })"
      ],
      "metadata": {
        "id": "VbicXh_gMnvc"
      },
      "execution_count": null,
      "outputs": []
    },
    {
      "cell_type": "code",
      "source": [
        "pd.DataFrame(output).groupby([\"name\", \"label\"]).agg({\"r2_score\": \"mean\"})"
      ],
      "metadata": {
        "id": "V67A_i6gah4H",
        "colab": {
          "base_uri": "https://localhost:8080/",
          "height": 645
        },
        "outputId": "23874276-3d24-45eb-8a81-8022eb7772d9"
      },
      "execution_count": null,
      "outputs": [
        {
          "output_type": "execute_result",
          "data": {
            "text/html": [
              "\n",
              "  <div id=\"df-011954fa-45f4-464e-a1ee-819a656cdfb4\">\n",
              "    <div class=\"colab-df-container\">\n",
              "      <div>\n",
              "<style scoped>\n",
              "    .dataframe tbody tr th:only-of-type {\n",
              "        vertical-align: middle;\n",
              "    }\n",
              "\n",
              "    .dataframe tbody tr th {\n",
              "        vertical-align: top;\n",
              "    }\n",
              "\n",
              "    .dataframe thead th {\n",
              "        text-align: right;\n",
              "    }\n",
              "</style>\n",
              "<table border=\"1\" class=\"dataframe\">\n",
              "  <thead>\n",
              "    <tr style=\"text-align: right;\">\n",
              "      <th></th>\n",
              "      <th></th>\n",
              "      <th>r2_score</th>\n",
              "    </tr>\n",
              "    <tr>\n",
              "      <th>name</th>\n",
              "      <th>label</th>\n",
              "      <th></th>\n",
              "    </tr>\n",
              "  </thead>\n",
              "  <tbody>\n",
              "    <tr>\n",
              "      <th rowspan=\"3\" valign=\"top\">AdaBoostRegressor (DT)</th>\n",
              "      <th>Data 1</th>\n",
              "      <td>0.925554</td>\n",
              "    </tr>\n",
              "    <tr>\n",
              "      <th>Data 2</th>\n",
              "      <td>0.981890</td>\n",
              "    </tr>\n",
              "    <tr>\n",
              "      <th>Data 3</th>\n",
              "      <td>0.981936</td>\n",
              "    </tr>\n",
              "    <tr>\n",
              "      <th rowspan=\"3\" valign=\"top\">AdaBoostRegressor (Default)</th>\n",
              "      <th>Data 1</th>\n",
              "      <td>0.912759</td>\n",
              "    </tr>\n",
              "    <tr>\n",
              "      <th>Data 2</th>\n",
              "      <td>0.968150</td>\n",
              "    </tr>\n",
              "    <tr>\n",
              "      <th>Data 3</th>\n",
              "      <td>0.968643</td>\n",
              "    </tr>\n",
              "    <tr>\n",
              "      <th rowspan=\"3\" valign=\"top\">Decision Tree (Depth=3)</th>\n",
              "      <th>Data 1</th>\n",
              "      <td>0.910047</td>\n",
              "    </tr>\n",
              "    <tr>\n",
              "      <th>Data 2</th>\n",
              "      <td>0.931640</td>\n",
              "    </tr>\n",
              "    <tr>\n",
              "      <th>Data 3</th>\n",
              "      <td>0.931640</td>\n",
              "    </tr>\n",
              "    <tr>\n",
              "      <th rowspan=\"3\" valign=\"top\">Decision Tree (Depth=4)</th>\n",
              "      <th>Data 1</th>\n",
              "      <td>0.930476</td>\n",
              "    </tr>\n",
              "    <tr>\n",
              "      <th>Data 2</th>\n",
              "      <td>0.969128</td>\n",
              "    </tr>\n",
              "    <tr>\n",
              "      <th>Data 3</th>\n",
              "      <td>0.969136</td>\n",
              "    </tr>\n",
              "    <tr>\n",
              "      <th rowspan=\"3\" valign=\"top\">Gradient Boosting</th>\n",
              "      <th>Data 1</th>\n",
              "      <td>0.937356</td>\n",
              "    </tr>\n",
              "    <tr>\n",
              "      <th>Data 2</th>\n",
              "      <td>0.985278</td>\n",
              "    </tr>\n",
              "    <tr>\n",
              "      <th>Data 3</th>\n",
              "      <td>0.988216</td>\n",
              "    </tr>\n",
              "    <tr>\n",
              "      <th rowspan=\"3\" valign=\"top\">Linear Regression</th>\n",
              "      <th>Data 1</th>\n",
              "      <td>0.916972</td>\n",
              "    </tr>\n",
              "    <tr>\n",
              "      <th>Data 2</th>\n",
              "      <td>0.961004</td>\n",
              "    </tr>\n",
              "    <tr>\n",
              "      <th>Data 3</th>\n",
              "      <td>0.997878</td>\n",
              "    </tr>\n",
              "  </tbody>\n",
              "</table>\n",
              "</div>\n",
              "      <button class=\"colab-df-convert\" onclick=\"convertToInteractive('df-011954fa-45f4-464e-a1ee-819a656cdfb4')\"\n",
              "              title=\"Convert this dataframe to an interactive table.\"\n",
              "              style=\"display:none;\">\n",
              "        \n",
              "  <svg xmlns=\"http://www.w3.org/2000/svg\" height=\"24px\"viewBox=\"0 0 24 24\"\n",
              "       width=\"24px\">\n",
              "    <path d=\"M0 0h24v24H0V0z\" fill=\"none\"/>\n",
              "    <path d=\"M18.56 5.44l.94 2.06.94-2.06 2.06-.94-2.06-.94-.94-2.06-.94 2.06-2.06.94zm-11 1L8.5 8.5l.94-2.06 2.06-.94-2.06-.94L8.5 2.5l-.94 2.06-2.06.94zm10 10l.94 2.06.94-2.06 2.06-.94-2.06-.94-.94-2.06-.94 2.06-2.06.94z\"/><path d=\"M17.41 7.96l-1.37-1.37c-.4-.4-.92-.59-1.43-.59-.52 0-1.04.2-1.43.59L10.3 9.45l-7.72 7.72c-.78.78-.78 2.05 0 2.83L4 21.41c.39.39.9.59 1.41.59.51 0 1.02-.2 1.41-.59l7.78-7.78 2.81-2.81c.8-.78.8-2.07 0-2.86zM5.41 20L4 18.59l7.72-7.72 1.47 1.35L5.41 20z\"/>\n",
              "  </svg>\n",
              "      </button>\n",
              "      \n",
              "  <style>\n",
              "    .colab-df-container {\n",
              "      display:flex;\n",
              "      flex-wrap:wrap;\n",
              "      gap: 12px;\n",
              "    }\n",
              "\n",
              "    .colab-df-convert {\n",
              "      background-color: #E8F0FE;\n",
              "      border: none;\n",
              "      border-radius: 50%;\n",
              "      cursor: pointer;\n",
              "      display: none;\n",
              "      fill: #1967D2;\n",
              "      height: 32px;\n",
              "      padding: 0 0 0 0;\n",
              "      width: 32px;\n",
              "    }\n",
              "\n",
              "    .colab-df-convert:hover {\n",
              "      background-color: #E2EBFA;\n",
              "      box-shadow: 0px 1px 2px rgba(60, 64, 67, 0.3), 0px 1px 3px 1px rgba(60, 64, 67, 0.15);\n",
              "      fill: #174EA6;\n",
              "    }\n",
              "\n",
              "    [theme=dark] .colab-df-convert {\n",
              "      background-color: #3B4455;\n",
              "      fill: #D2E3FC;\n",
              "    }\n",
              "\n",
              "    [theme=dark] .colab-df-convert:hover {\n",
              "      background-color: #434B5C;\n",
              "      box-shadow: 0px 1px 3px 1px rgba(0, 0, 0, 0.15);\n",
              "      filter: drop-shadow(0px 1px 2px rgba(0, 0, 0, 0.3));\n",
              "      fill: #FFFFFF;\n",
              "    }\n",
              "  </style>\n",
              "\n",
              "      <script>\n",
              "        const buttonEl =\n",
              "          document.querySelector('#df-011954fa-45f4-464e-a1ee-819a656cdfb4 button.colab-df-convert');\n",
              "        buttonEl.style.display =\n",
              "          google.colab.kernel.accessAllowed ? 'block' : 'none';\n",
              "\n",
              "        async function convertToInteractive(key) {\n",
              "          const element = document.querySelector('#df-011954fa-45f4-464e-a1ee-819a656cdfb4');\n",
              "          const dataTable =\n",
              "            await google.colab.kernel.invokeFunction('convertToInteractive',\n",
              "                                                     [key], {});\n",
              "          if (!dataTable) return;\n",
              "\n",
              "          const docLinkHtml = 'Like what you see? Visit the ' +\n",
              "            '<a target=\"_blank\" href=https://colab.research.google.com/notebooks/data_table.ipynb>data table notebook</a>'\n",
              "            + ' to learn more about interactive tables.';\n",
              "          element.innerHTML = '';\n",
              "          dataTable['output_type'] = 'display_data';\n",
              "          await google.colab.output.renderOutput(dataTable, element);\n",
              "          const docLink = document.createElement('div');\n",
              "          docLink.innerHTML = docLinkHtml;\n",
              "          element.appendChild(docLink);\n",
              "        }\n",
              "      </script>\n",
              "    </div>\n",
              "  </div>\n",
              "  "
            ],
            "text/plain": [
              "                                    r2_score\n",
              "name                        label           \n",
              "AdaBoostRegressor (DT)      Data 1  0.925554\n",
              "                            Data 2  0.981890\n",
              "                            Data 3  0.981936\n",
              "AdaBoostRegressor (Default) Data 1  0.912759\n",
              "                            Data 2  0.968150\n",
              "                            Data 3  0.968643\n",
              "Decision Tree (Depth=3)     Data 1  0.910047\n",
              "                            Data 2  0.931640\n",
              "                            Data 3  0.931640\n",
              "Decision Tree (Depth=4)     Data 1  0.930476\n",
              "                            Data 2  0.969128\n",
              "                            Data 3  0.969136\n",
              "Gradient Boosting           Data 1  0.937356\n",
              "                            Data 2  0.985278\n",
              "                            Data 3  0.988216\n",
              "Linear Regression           Data 1  0.916972\n",
              "                            Data 2  0.961004\n",
              "                            Data 3  0.997878"
            ]
          },
          "metadata": {},
          "execution_count": 24
        }
      ]
    },
    {
      "cell_type": "code",
      "source": [
        "g = sns.boxplot(x=\"r2_score\", y=\"name\", hue=\"label\", data=pd.DataFrame(output))\n",
        "g.set_ylabel(\"Regressor\")\n",
        "g.set_xlabel(\"R² Score\")\n",
        "\n",
        "g.set_xticklabels([f\"{round(x * 100, 1) if (x * 100) % 2 != 0 else int(x * 100)}%\" for x in g.get_xticks()])\n",
        "\n",
        "for i in range(5):\n",
        "    g.axhline(i + 0.5, color='red', lw=1, alpha=0.5)\n",
        "\n",
        "g.legend(loc='upper center', bbox_to_anchor=(0.5, -0.15),\n",
        "          fancybox=False, frameon=False, shadow=False, ncol=5)"
      ],
      "metadata": {
        "colab": {
          "base_uri": "https://localhost:8080/",
          "height": 534
        },
        "id": "MIgik0LHo8Vl",
        "outputId": "240efc6b-14db-4c54-9e69-2f9f168dab09"
      },
      "execution_count": null,
      "outputs": [
        {
          "output_type": "execute_result",
          "data": {
            "text/plain": [
              "<matplotlib.legend.Legend at 0x7fa7160c7e50>"
            ]
          },
          "metadata": {},
          "execution_count": 25
        },
        {
          "output_type": "stream",
          "name": "stderr",
          "text": [
            "findfont: Font family ['Arial'] not found. Falling back to DejaVu Sans.\n"
          ]
        },
        {
          "output_type": "display_data",
          "data": {
            "image/png": "[encoded data removed]",
            "text/plain": [
              "<Figure size 504x504 with 1 Axes>"
            ]
          },
          "metadata": {}
        }
      ]
    },
    {
      "cell_type": "code",
      "source": [
        "sns.scatterplot(x=np.ravel(y_pred), y=np.ravel(y_test))\n"
      ],
      "metadata": {
        "id": "-qg9803SNM2Q",
        "colab": {
          "base_uri": "https://localhost:8080/",
          "height": 458
        },
        "outputId": "d48bae91-d8a7-4119-affd-879ded263ca5"
      },
      "execution_count": null,
      "outputs": [
        {
          "output_type": "execute_result",
          "data": {
            "text/plain": [
              "<matplotlib.axes._subplots.AxesSubplot at 0x7fa7181599d0>"
            ]
          },
          "metadata": {},
          "execution_count": 26
        },
        {
          "output_type": "display_data",
          "data": {
            "image/png": "[encoded data removed]",
            "text/plain": [
              "<Figure size 504x504 with 1 Axes>"
            ]
          },
          "metadata": {}
        }
      ]
    }
  ]
}